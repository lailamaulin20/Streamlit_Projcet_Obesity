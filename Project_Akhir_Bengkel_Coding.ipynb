{
  "nbformat": 4,
  "nbformat_minor": 0,
  "metadata": {
    "colab": {
      "provenance": []
    },
    "kernelspec": {
      "name": "python3",
      "display_name": "Python 3"
    },
    "language_info": {
      "name": "python"
    }
  },
  "cells": [
    {
      "cell_type": "markdown",
      "source": [
        "# **Exploratory Data Analysis (EDA)**\n",
        "\n",
        "---\n",
        "\n"
      ],
      "metadata": {
        "id": "4M4dgBtDC-ye"
      }
    },
    {
      "cell_type": "markdown",
      "source": [
        "# **Import Library**\n",
        "\n",
        "---\n",
        "\n"
      ],
      "metadata": {
        "id": "Et0StayaDIH2"
      }
    },
    {
      "cell_type": "code",
      "execution_count": null,
      "metadata": {
        "id": "v5dzUUdi4sRZ"
      },
      "outputs": [],
      "source": [
        "# Import library utama\n",
        "import pandas as pd              # Untuk manipulasi data dalam bentuk DataFrame\n",
        "import numpy as np               # Untuk operasi numerik dan array\n",
        "\n",
        "# Visualisasi data\n",
        "import matplotlib.pyplot as plt  # Untuk membuat grafik dan visualisasi dasar\n",
        "import seaborn as sns            # Untuk visualisasi statistik yang lebih menarik dan informatif\n",
        "\n",
        "# Preprocessing data\n",
        "from sklearn.impute import SimpleImputer              # Untuk menangani missing value (mengisi nilai yang hilang)\n",
        "from sklearn.preprocessing import LabelEncoder        # Untuk mengubah data kategorikal menjadi angka\n",
        "from sklearn.preprocessing import StandardScaler      # Untuk menstandarisasi fitur numerik (mean=0, std=1)\n",
        "\n",
        "# Pembagian data\n",
        "from sklearn.model_selection import train_test_split  # Untuk membagi dataset menjadi data latih dan data uji\n",
        "\n",
        "# Model klasifikasi\n",
        "from sklearn.tree import DecisionTreeClassifier       # Algoritma Decision Tree untuk klasifikasi\n",
        "from sklearn.ensemble import RandomForestClassifier   # Random Forest, gabungan banyak Decision Tree\n",
        "from sklearn.linear_model import LogisticRegression   # Regresi logistik untuk klasifikasi\n",
        "from sklearn.neighbors import KNeighborsClassifier    # KNN, klasifikasi berdasarkan tetangga terdekat\n",
        "from sklearn.naive_bayes import GaussianNB            # Naive Bayes untuk data numerik (Gaussian)\n",
        "from sklearn.svm import SVC                           # Support Vector Machine untuk klasifikasi\n",
        "\n",
        "# Evaluasi model\n",
        "from sklearn.metrics import accuracy_score, precision_score, recall_score, f1_score, classification_report\n",
        "# Digunakan untuk mengukur performa model (akurasi, presisi, recall, F1, laporan klasifikasi)\n",
        "\n",
        "# Penanganan data tidak seimbang\n",
        "from imblearn.over_sampling import SMOTE              # Teknik SMOTE untuk oversampling data minoritas\n",
        "\n",
        "# Utilitas tambahan\n",
        "from collections import Counter                       # Untuk menghitung frekuensi elemen, berguna saat cek distribusi kelas\n"
      ]
    },
    {
      "cell_type": "markdown",
      "source": [
        "# **Import Dataset**"
      ],
      "metadata": {
        "id": "m2FuDbqTDOdj"
      }
    },
    {
      "cell_type": "code",
      "source": [
        "# Membaca file dataset ObesityDataSet.csv dan menyimpannya ke dalam DataFrame bernama df\n",
        "# Ganti path jika file berada di lokasi lain\n",
        "df = pd.read_csv('/content/ObesityDataSet.csv')\n"
      ],
      "metadata": {
        "id": "SZsDNf5a48EO"
      },
      "execution_count": null,
      "outputs": []
    },
    {
      "cell_type": "code",
      "source": [
        "# Menampilkan 5 baris pertama dari dataset untuk melihat gambaran awal data\n",
        "df.head()\n"
      ],
      "metadata": {
        "colab": {
          "base_uri": "https://localhost:8080/",
          "height": 226
        },
        "id": "5GmTA6xW4_65",
        "outputId": "47d413c1-b564-4f0c-ebf2-07e6a1f92ef8"
      },
      "execution_count": null,
      "outputs": [
        {
          "output_type": "execute_result",
          "data": {
            "text/plain": [
              "  Age  Gender Height Weight        CALC FAVC FCVC NCP  SCC SMOKE CH2O  \\\n",
              "0  21  Female   1.62     64          no   no    2   3   no    no    2   \n",
              "1  21  Female   1.52     56   Sometimes   no    3   3  yes   yes    3   \n",
              "2  23    Male    1.8     77  Frequently   no    2   3   no    no    2   \n",
              "3  27    Male    1.8     87  Frequently   no    3   3   no    no    2   \n",
              "4  22    Male   1.78   89.8   Sometimes   no    2   1   no    no    2   \n",
              "\n",
              "  family_history_with_overweight FAF TUE       CAEC                 MTRANS  \\\n",
              "0                            yes   0   1  Sometimes  Public_Transportation   \n",
              "1                            yes   3   0  Sometimes  Public_Transportation   \n",
              "2                            yes   2   1  Sometimes  Public_Transportation   \n",
              "3                             no   2   0  Sometimes                Walking   \n",
              "4                             no   0   0  Sometimes  Public_Transportation   \n",
              "\n",
              "            NObeyesdad  \n",
              "0        Normal_Weight  \n",
              "1        Normal_Weight  \n",
              "2        Normal_Weight  \n",
              "3   Overweight_Level_I  \n",
              "4  Overweight_Level_II  "
            ],
            "text/html": [
              "\n",
              "  <div id=\"df-a60b0bcd-77e5-4852-ac9b-aa81f24e7a5b\" class=\"colab-df-container\">\n",
              "    <div>\n",
              "<style scoped>\n",
              "    .dataframe tbody tr th:only-of-type {\n",
              "        vertical-align: middle;\n",
              "    }\n",
              "\n",
              "    .dataframe tbody tr th {\n",
              "        vertical-align: top;\n",
              "    }\n",
              "\n",
              "    .dataframe thead th {\n",
              "        text-align: right;\n",
              "    }\n",
              "</style>\n",
              "<table border=\"1\" class=\"dataframe\">\n",
              "  <thead>\n",
              "    <tr style=\"text-align: right;\">\n",
              "      <th></th>\n",
              "      <th>Age</th>\n",
              "      <th>Gender</th>\n",
              "      <th>Height</th>\n",
              "      <th>Weight</th>\n",
              "      <th>CALC</th>\n",
              "      <th>FAVC</th>\n",
              "      <th>FCVC</th>\n",
              "      <th>NCP</th>\n",
              "      <th>SCC</th>\n",
              "      <th>SMOKE</th>\n",
              "      <th>CH2O</th>\n",
              "      <th>family_history_with_overweight</th>\n",
              "      <th>FAF</th>\n",
              "      <th>TUE</th>\n",
              "      <th>CAEC</th>\n",
              "      <th>MTRANS</th>\n",
              "      <th>NObeyesdad</th>\n",
              "    </tr>\n",
              "  </thead>\n",
              "  <tbody>\n",
              "    <tr>\n",
              "      <th>0</th>\n",
              "      <td>21</td>\n",
              "      <td>Female</td>\n",
              "      <td>1.62</td>\n",
              "      <td>64</td>\n",
              "      <td>no</td>\n",
              "      <td>no</td>\n",
              "      <td>2</td>\n",
              "      <td>3</td>\n",
              "      <td>no</td>\n",
              "      <td>no</td>\n",
              "      <td>2</td>\n",
              "      <td>yes</td>\n",
              "      <td>0</td>\n",
              "      <td>1</td>\n",
              "      <td>Sometimes</td>\n",
              "      <td>Public_Transportation</td>\n",
              "      <td>Normal_Weight</td>\n",
              "    </tr>\n",
              "    <tr>\n",
              "      <th>1</th>\n",
              "      <td>21</td>\n",
              "      <td>Female</td>\n",
              "      <td>1.52</td>\n",
              "      <td>56</td>\n",
              "      <td>Sometimes</td>\n",
              "      <td>no</td>\n",
              "      <td>3</td>\n",
              "      <td>3</td>\n",
              "      <td>yes</td>\n",
              "      <td>yes</td>\n",
              "      <td>3</td>\n",
              "      <td>yes</td>\n",
              "      <td>3</td>\n",
              "      <td>0</td>\n",
              "      <td>Sometimes</td>\n",
              "      <td>Public_Transportation</td>\n",
              "      <td>Normal_Weight</td>\n",
              "    </tr>\n",
              "    <tr>\n",
              "      <th>2</th>\n",
              "      <td>23</td>\n",
              "      <td>Male</td>\n",
              "      <td>1.8</td>\n",
              "      <td>77</td>\n",
              "      <td>Frequently</td>\n",
              "      <td>no</td>\n",
              "      <td>2</td>\n",
              "      <td>3</td>\n",
              "      <td>no</td>\n",
              "      <td>no</td>\n",
              "      <td>2</td>\n",
              "      <td>yes</td>\n",
              "      <td>2</td>\n",
              "      <td>1</td>\n",
              "      <td>Sometimes</td>\n",
              "      <td>Public_Transportation</td>\n",
              "      <td>Normal_Weight</td>\n",
              "    </tr>\n",
              "    <tr>\n",
              "      <th>3</th>\n",
              "      <td>27</td>\n",
              "      <td>Male</td>\n",
              "      <td>1.8</td>\n",
              "      <td>87</td>\n",
              "      <td>Frequently</td>\n",
              "      <td>no</td>\n",
              "      <td>3</td>\n",
              "      <td>3</td>\n",
              "      <td>no</td>\n",
              "      <td>no</td>\n",
              "      <td>2</td>\n",
              "      <td>no</td>\n",
              "      <td>2</td>\n",
              "      <td>0</td>\n",
              "      <td>Sometimes</td>\n",
              "      <td>Walking</td>\n",
              "      <td>Overweight_Level_I</td>\n",
              "    </tr>\n",
              "    <tr>\n",
              "      <th>4</th>\n",
              "      <td>22</td>\n",
              "      <td>Male</td>\n",
              "      <td>1.78</td>\n",
              "      <td>89.8</td>\n",
              "      <td>Sometimes</td>\n",
              "      <td>no</td>\n",
              "      <td>2</td>\n",
              "      <td>1</td>\n",
              "      <td>no</td>\n",
              "      <td>no</td>\n",
              "      <td>2</td>\n",
              "      <td>no</td>\n",
              "      <td>0</td>\n",
              "      <td>0</td>\n",
              "      <td>Sometimes</td>\n",
              "      <td>Public_Transportation</td>\n",
              "      <td>Overweight_Level_II</td>\n",
              "    </tr>\n",
              "  </tbody>\n",
              "</table>\n",
              "</div>\n",
              "    <div class=\"colab-df-buttons\">\n",
              "\n",
              "  <div class=\"colab-df-container\">\n",
              "    <button class=\"colab-df-convert\" onclick=\"convertToInteractive('df-a60b0bcd-77e5-4852-ac9b-aa81f24e7a5b')\"\n",
              "            title=\"Convert this dataframe to an interactive table.\"\n",
              "            style=\"display:none;\">\n",
              "\n",
              "  <svg xmlns=\"http://www.w3.org/2000/svg\" height=\"24px\" viewBox=\"0 -960 960 960\">\n",
              "    <path d=\"M120-120v-720h720v720H120Zm60-500h600v-160H180v160Zm220 220h160v-160H400v160Zm0 220h160v-160H400v160ZM180-400h160v-160H180v160Zm440 0h160v-160H620v160ZM180-180h160v-160H180v160Zm440 0h160v-160H620v160Z\"/>\n",
              "  </svg>\n",
              "    </button>\n",
              "\n",
              "  <style>\n",
              "    .colab-df-container {\n",
              "      display:flex;\n",
              "      gap: 12px;\n",
              "    }\n",
              "\n",
              "    .colab-df-convert {\n",
              "      background-color: #E8F0FE;\n",
              "      border: none;\n",
              "      border-radius: 50%;\n",
              "      cursor: pointer;\n",
              "      display: none;\n",
              "      fill: #1967D2;\n",
              "      height: 32px;\n",
              "      padding: 0 0 0 0;\n",
              "      width: 32px;\n",
              "    }\n",
              "\n",
              "    .colab-df-convert:hover {\n",
              "      background-color: #E2EBFA;\n",
              "      box-shadow: 0px 1px 2px rgba(60, 64, 67, 0.3), 0px 1px 3px 1px rgba(60, 64, 67, 0.15);\n",
              "      fill: #174EA6;\n",
              "    }\n",
              "\n",
              "    .colab-df-buttons div {\n",
              "      margin-bottom: 4px;\n",
              "    }\n",
              "\n",
              "    [theme=dark] .colab-df-convert {\n",
              "      background-color: #3B4455;\n",
              "      fill: #D2E3FC;\n",
              "    }\n",
              "\n",
              "    [theme=dark] .colab-df-convert:hover {\n",
              "      background-color: #434B5C;\n",
              "      box-shadow: 0px 1px 3px 1px rgba(0, 0, 0, 0.15);\n",
              "      filter: drop-shadow(0px 1px 2px rgba(0, 0, 0, 0.3));\n",
              "      fill: #FFFFFF;\n",
              "    }\n",
              "  </style>\n",
              "\n",
              "    <script>\n",
              "      const buttonEl =\n",
              "        document.querySelector('#df-a60b0bcd-77e5-4852-ac9b-aa81f24e7a5b button.colab-df-convert');\n",
              "      buttonEl.style.display =\n",
              "        google.colab.kernel.accessAllowed ? 'block' : 'none';\n",
              "\n",
              "      async function convertToInteractive(key) {\n",
              "        const element = document.querySelector('#df-a60b0bcd-77e5-4852-ac9b-aa81f24e7a5b');\n",
              "        const dataTable =\n",
              "          await google.colab.kernel.invokeFunction('convertToInteractive',\n",
              "                                                    [key], {});\n",
              "        if (!dataTable) return;\n",
              "\n",
              "        const docLinkHtml = 'Like what you see? Visit the ' +\n",
              "          '<a target=\"_blank\" href=https://colab.research.google.com/notebooks/data_table.ipynb>data table notebook</a>'\n",
              "          + ' to learn more about interactive tables.';\n",
              "        element.innerHTML = '';\n",
              "        dataTable['output_type'] = 'display_data';\n",
              "        await google.colab.output.renderOutput(dataTable, element);\n",
              "        const docLink = document.createElement('div');\n",
              "        docLink.innerHTML = docLinkHtml;\n",
              "        element.appendChild(docLink);\n",
              "      }\n",
              "    </script>\n",
              "  </div>\n",
              "\n",
              "\n",
              "    <div id=\"df-d4d3bc28-c7c9-4c2d-b5cc-5e888fcbfafa\">\n",
              "      <button class=\"colab-df-quickchart\" onclick=\"quickchart('df-d4d3bc28-c7c9-4c2d-b5cc-5e888fcbfafa')\"\n",
              "                title=\"Suggest charts\"\n",
              "                style=\"display:none;\">\n",
              "\n",
              "<svg xmlns=\"http://www.w3.org/2000/svg\" height=\"24px\"viewBox=\"0 0 24 24\"\n",
              "     width=\"24px\">\n",
              "    <g>\n",
              "        <path d=\"M19 3H5c-1.1 0-2 .9-2 2v14c0 1.1.9 2 2 2h14c1.1 0 2-.9 2-2V5c0-1.1-.9-2-2-2zM9 17H7v-7h2v7zm4 0h-2V7h2v10zm4 0h-2v-4h2v4z\"/>\n",
              "    </g>\n",
              "</svg>\n",
              "      </button>\n",
              "\n",
              "<style>\n",
              "  .colab-df-quickchart {\n",
              "      --bg-color: #E8F0FE;\n",
              "      --fill-color: #1967D2;\n",
              "      --hover-bg-color: #E2EBFA;\n",
              "      --hover-fill-color: #174EA6;\n",
              "      --disabled-fill-color: #AAA;\n",
              "      --disabled-bg-color: #DDD;\n",
              "  }\n",
              "\n",
              "  [theme=dark] .colab-df-quickchart {\n",
              "      --bg-color: #3B4455;\n",
              "      --fill-color: #D2E3FC;\n",
              "      --hover-bg-color: #434B5C;\n",
              "      --hover-fill-color: #FFFFFF;\n",
              "      --disabled-bg-color: #3B4455;\n",
              "      --disabled-fill-color: #666;\n",
              "  }\n",
              "\n",
              "  .colab-df-quickchart {\n",
              "    background-color: var(--bg-color);\n",
              "    border: none;\n",
              "    border-radius: 50%;\n",
              "    cursor: pointer;\n",
              "    display: none;\n",
              "    fill: var(--fill-color);\n",
              "    height: 32px;\n",
              "    padding: 0;\n",
              "    width: 32px;\n",
              "  }\n",
              "\n",
              "  .colab-df-quickchart:hover {\n",
              "    background-color: var(--hover-bg-color);\n",
              "    box-shadow: 0 1px 2px rgba(60, 64, 67, 0.3), 0 1px 3px 1px rgba(60, 64, 67, 0.15);\n",
              "    fill: var(--button-hover-fill-color);\n",
              "  }\n",
              "\n",
              "  .colab-df-quickchart-complete:disabled,\n",
              "  .colab-df-quickchart-complete:disabled:hover {\n",
              "    background-color: var(--disabled-bg-color);\n",
              "    fill: var(--disabled-fill-color);\n",
              "    box-shadow: none;\n",
              "  }\n",
              "\n",
              "  .colab-df-spinner {\n",
              "    border: 2px solid var(--fill-color);\n",
              "    border-color: transparent;\n",
              "    border-bottom-color: var(--fill-color);\n",
              "    animation:\n",
              "      spin 1s steps(1) infinite;\n",
              "  }\n",
              "\n",
              "  @keyframes spin {\n",
              "    0% {\n",
              "      border-color: transparent;\n",
              "      border-bottom-color: var(--fill-color);\n",
              "      border-left-color: var(--fill-color);\n",
              "    }\n",
              "    20% {\n",
              "      border-color: transparent;\n",
              "      border-left-color: var(--fill-color);\n",
              "      border-top-color: var(--fill-color);\n",
              "    }\n",
              "    30% {\n",
              "      border-color: transparent;\n",
              "      border-left-color: var(--fill-color);\n",
              "      border-top-color: var(--fill-color);\n",
              "      border-right-color: var(--fill-color);\n",
              "    }\n",
              "    40% {\n",
              "      border-color: transparent;\n",
              "      border-right-color: var(--fill-color);\n",
              "      border-top-color: var(--fill-color);\n",
              "    }\n",
              "    60% {\n",
              "      border-color: transparent;\n",
              "      border-right-color: var(--fill-color);\n",
              "    }\n",
              "    80% {\n",
              "      border-color: transparent;\n",
              "      border-right-color: var(--fill-color);\n",
              "      border-bottom-color: var(--fill-color);\n",
              "    }\n",
              "    90% {\n",
              "      border-color: transparent;\n",
              "      border-bottom-color: var(--fill-color);\n",
              "    }\n",
              "  }\n",
              "</style>\n",
              "\n",
              "      <script>\n",
              "        async function quickchart(key) {\n",
              "          const quickchartButtonEl =\n",
              "            document.querySelector('#' + key + ' button');\n",
              "          quickchartButtonEl.disabled = true;  // To prevent multiple clicks.\n",
              "          quickchartButtonEl.classList.add('colab-df-spinner');\n",
              "          try {\n",
              "            const charts = await google.colab.kernel.invokeFunction(\n",
              "                'suggestCharts', [key], {});\n",
              "          } catch (error) {\n",
              "            console.error('Error during call to suggestCharts:', error);\n",
              "          }\n",
              "          quickchartButtonEl.classList.remove('colab-df-spinner');\n",
              "          quickchartButtonEl.classList.add('colab-df-quickchart-complete');\n",
              "        }\n",
              "        (() => {\n",
              "          let quickchartButtonEl =\n",
              "            document.querySelector('#df-d4d3bc28-c7c9-4c2d-b5cc-5e888fcbfafa button');\n",
              "          quickchartButtonEl.style.display =\n",
              "            google.colab.kernel.accessAllowed ? 'block' : 'none';\n",
              "        })();\n",
              "      </script>\n",
              "    </div>\n",
              "\n",
              "    </div>\n",
              "  </div>\n"
            ],
            "application/vnd.google.colaboratory.intrinsic+json": {
              "type": "dataframe",
              "variable_name": "df",
              "summary": "{\n  \"name\": \"df\",\n  \"rows\": 2111,\n  \"fields\": [\n    {\n      \"column\": \"Age\",\n      \"properties\": {\n        \"dtype\": \"string\",\n        \"num_unique_values\": 1394,\n        \"samples\": [\n          \"21.012569\",\n          \"30.577944\",\n          \"30.002029\"\n        ],\n        \"semantic_type\": \"\",\n        \"description\": \"\"\n      }\n    },\n    {\n      \"column\": \"Gender\",\n      \"properties\": {\n        \"dtype\": \"category\",\n        \"num_unique_values\": 3,\n        \"samples\": [\n          \"Female\",\n          \"Male\",\n          \"?\"\n        ],\n        \"semantic_type\": \"\",\n        \"description\": \"\"\n      }\n    },\n    {\n      \"column\": \"Height\",\n      \"properties\": {\n        \"dtype\": \"string\",\n        \"num_unique_values\": 1562,\n        \"samples\": [\n          \"1.817917\",\n          \"1.699793\",\n          \"1.508908\"\n        ],\n        \"semantic_type\": \"\",\n        \"description\": \"\"\n      }\n    },\n    {\n      \"column\": \"Weight\",\n      \"properties\": {\n        \"dtype\": \"string\",\n        \"num_unique_values\": 1518,\n        \"samples\": [\n          \"49.105025\",\n          \"109.900472\",\n          \"104.585783\"\n        ],\n        \"semantic_type\": \"\",\n        \"description\": \"\"\n      }\n    },\n    {\n      \"column\": \"CALC\",\n      \"properties\": {\n        \"dtype\": \"category\",\n        \"num_unique_values\": 5,\n        \"samples\": [\n          \"Sometimes\",\n          \"Always\",\n          \"Frequently\"\n        ],\n        \"semantic_type\": \"\",\n        \"description\": \"\"\n      }\n    },\n    {\n      \"column\": \"FAVC\",\n      \"properties\": {\n        \"dtype\": \"category\",\n        \"num_unique_values\": 3,\n        \"samples\": [\n          \"no\",\n          \"yes\",\n          \"?\"\n        ],\n        \"semantic_type\": \"\",\n        \"description\": \"\"\n      }\n    },\n    {\n      \"column\": \"FCVC\",\n      \"properties\": {\n        \"dtype\": \"category\",\n        \"num_unique_values\": 808,\n        \"samples\": [\n          \"2.535154\",\n          \"2.951591\",\n          \"2.971588\"\n        ],\n        \"semantic_type\": \"\",\n        \"description\": \"\"\n      }\n    },\n    {\n      \"column\": \"NCP\",\n      \"properties\": {\n        \"dtype\": \"category\",\n        \"num_unique_values\": 637,\n        \"samples\": [\n          \"2.812283\",\n          \"2.118153\",\n          \"3.821168\"\n        ],\n        \"semantic_type\": \"\",\n        \"description\": \"\"\n      }\n    },\n    {\n      \"column\": \"SCC\",\n      \"properties\": {\n        \"dtype\": \"category\",\n        \"num_unique_values\": 3,\n        \"samples\": [\n          \"no\",\n          \"yes\",\n          \"?\"\n        ],\n        \"semantic_type\": \"\",\n        \"description\": \"\"\n      }\n    },\n    {\n      \"column\": \"SMOKE\",\n      \"properties\": {\n        \"dtype\": \"category\",\n        \"num_unique_values\": 3,\n        \"samples\": [\n          \"no\",\n          \"yes\",\n          \"?\"\n        ],\n        \"semantic_type\": \"\",\n        \"description\": \"\"\n      }\n    },\n    {\n      \"column\": \"CH2O\",\n      \"properties\": {\n        \"dtype\": \"string\",\n        \"num_unique_values\": 1263,\n        \"samples\": [\n          \"2.395387\",\n          \"1.01378\",\n          \"2.03415\"\n        ],\n        \"semantic_type\": \"\",\n        \"description\": \"\"\n      }\n    },\n    {\n      \"column\": \"family_history_with_overweight\",\n      \"properties\": {\n        \"dtype\": \"category\",\n        \"num_unique_values\": 3,\n        \"samples\": [\n          \"yes\",\n          \"no\",\n          \"?\"\n        ],\n        \"semantic_type\": \"\",\n        \"description\": \"\"\n      }\n    },\n    {\n      \"column\": \"FAF\",\n      \"properties\": {\n        \"dtype\": \"string\",\n        \"num_unique_values\": 1186,\n        \"samples\": [\n          \"1.609801\",\n          \"1.194898\",\n          \"1.34139\"\n        ],\n        \"semantic_type\": \"\",\n        \"description\": \"\"\n      }\n    },\n    {\n      \"column\": \"TUE\",\n      \"properties\": {\n        \"dtype\": \"string\",\n        \"num_unique_values\": 1130,\n        \"samples\": [\n          \"1.89933\",\n          \"0.930836\",\n          \"0.173232\"\n        ],\n        \"semantic_type\": \"\",\n        \"description\": \"\"\n      }\n    },\n    {\n      \"column\": \"CAEC\",\n      \"properties\": {\n        \"dtype\": \"category\",\n        \"num_unique_values\": 5,\n        \"samples\": [\n          \"Frequently\",\n          \"?\",\n          \"Always\"\n        ],\n        \"semantic_type\": \"\",\n        \"description\": \"\"\n      }\n    },\n    {\n      \"column\": \"MTRANS\",\n      \"properties\": {\n        \"dtype\": \"category\",\n        \"num_unique_values\": 6,\n        \"samples\": [\n          \"Public_Transportation\",\n          \"Walking\",\n          \"?\"\n        ],\n        \"semantic_type\": \"\",\n        \"description\": \"\"\n      }\n    },\n    {\n      \"column\": \"NObeyesdad\",\n      \"properties\": {\n        \"dtype\": \"category\",\n        \"num_unique_values\": 7,\n        \"samples\": [\n          \"Normal_Weight\",\n          \"Overweight_Level_I\",\n          \"Obesity_Type_II\"\n        ],\n        \"semantic_type\": \"\",\n        \"description\": \"\"\n      }\n    }\n  ]\n}"
            }
          },
          "metadata": {},
          "execution_count": 155
        }
      ]
    },
    {
      "cell_type": "markdown",
      "source": [
        "**Penjelasan :**\n",
        "\n",
        "Kode ini digunakan untuk melihat gambaran awal struktur dan isi data, termasuk nama kolom, tipe data, dan beberapa nilai awal di setiap kolom. Cocok untuk pengecekan awal setelah membaca file CSV."
      ],
      "metadata": {
        "id": "lZDnyO1lPzZE"
      }
    },
    {
      "cell_type": "code",
      "source": [
        "# Menampilkan informasi umum tentang dataset, seperti jumlah baris, kolom, tipe data, dan jumlah data non-null\n",
        "df.info()\n"
      ],
      "metadata": {
        "colab": {
          "base_uri": "https://localhost:8080/"
        },
        "id": "qn9kL_kA5Bc-",
        "outputId": "3fb9ee41-ee49-47e7-8050-f60af6382b9f"
      },
      "execution_count": null,
      "outputs": [
        {
          "output_type": "stream",
          "name": "stdout",
          "text": [
            "<class 'pandas.core.frame.DataFrame'>\n",
            "RangeIndex: 2111 entries, 0 to 2110\n",
            "Data columns (total 17 columns):\n",
            " #   Column                          Non-Null Count  Dtype \n",
            "---  ------                          --------------  ----- \n",
            " 0   Age                             2097 non-null   object\n",
            " 1   Gender                          2102 non-null   object\n",
            " 2   Height                          2099 non-null   object\n",
            " 3   Weight                          2100 non-null   object\n",
            " 4   CALC                            2106 non-null   object\n",
            " 5   FAVC                            2100 non-null   object\n",
            " 6   FCVC                            2103 non-null   object\n",
            " 7   NCP                             2099 non-null   object\n",
            " 8   SCC                             2101 non-null   object\n",
            " 9   SMOKE                           2106 non-null   object\n",
            " 10  CH2O                            2105 non-null   object\n",
            " 11  family_history_with_overweight  2098 non-null   object\n",
            " 12  FAF                             2103 non-null   object\n",
            " 13  TUE                             2102 non-null   object\n",
            " 14  CAEC                            2100 non-null   object\n",
            " 15  MTRANS                          2105 non-null   object\n",
            " 16  NObeyesdad                      2111 non-null   object\n",
            "dtypes: object(17)\n",
            "memory usage: 280.5+ KB\n"
          ]
        }
      ]
    },
    {
      "cell_type": "markdown",
      "source": [
        "**Penjelasan :**\n",
        "\n",
        "df.info() sangat berguna untuk mengetahui struktur dataset, melihat apakah ada missing value, serta memahami tipe data setiap kolom. Ini membantu dalam tahap eksplorasi data awal."
      ],
      "metadata": {
        "id": "-A6w1q0mP73B"
      }
    },
    {
      "cell_type": "code",
      "source": [
        "# Menampilkan statistik deskriptif untuk kolom numerik, seperti mean, std, min, max, dan quartile\n",
        "df.describe()\n"
      ],
      "metadata": {
        "colab": {
          "base_uri": "https://localhost:8080/",
          "height": 194
        },
        "id": "r63Bj1XW5Eo7",
        "outputId": "3fc4fa29-b37e-4575-e229-fa95d64acebc"
      },
      "execution_count": null,
      "outputs": [
        {
          "output_type": "execute_result",
          "data": {
            "text/plain": [
              "         Age Gender Height Weight       CALC  FAVC  FCVC   NCP   SCC SMOKE  \\\n",
              "count   2097   2102   2099   2100       2106  2100  2103  2099  2101  2106   \n",
              "unique  1394      3   1562   1518          5     3   808   637     3     3   \n",
              "top       18   Male    1.7     80  Sometimes   yes     3     3    no    no   \n",
              "freq     124   1056     58     58       1386  1844   647  1183  1997  2054   \n",
              "\n",
              "        CH2O family_history_with_overweight   FAF   TUE       CAEC  \\\n",
              "count   2105                           2098  2103  2102       2100   \n",
              "unique  1263                              3  1186  1130          5   \n",
              "top        2                            yes     0     0  Sometimes   \n",
              "freq     441                           1705   404   552       1747   \n",
              "\n",
              "                       MTRANS      NObeyesdad  \n",
              "count                    2105            2111  \n",
              "unique                      6               7  \n",
              "top     Public_Transportation  Obesity_Type_I  \n",
              "freq                     1572             351  "
            ],
            "text/html": [
              "\n",
              "  <div id=\"df-da5401f6-02ff-48bf-acfd-e3ec2aa49bff\" class=\"colab-df-container\">\n",
              "    <div>\n",
              "<style scoped>\n",
              "    .dataframe tbody tr th:only-of-type {\n",
              "        vertical-align: middle;\n",
              "    }\n",
              "\n",
              "    .dataframe tbody tr th {\n",
              "        vertical-align: top;\n",
              "    }\n",
              "\n",
              "    .dataframe thead th {\n",
              "        text-align: right;\n",
              "    }\n",
              "</style>\n",
              "<table border=\"1\" class=\"dataframe\">\n",
              "  <thead>\n",
              "    <tr style=\"text-align: right;\">\n",
              "      <th></th>\n",
              "      <th>Age</th>\n",
              "      <th>Gender</th>\n",
              "      <th>Height</th>\n",
              "      <th>Weight</th>\n",
              "      <th>CALC</th>\n",
              "      <th>FAVC</th>\n",
              "      <th>FCVC</th>\n",
              "      <th>NCP</th>\n",
              "      <th>SCC</th>\n",
              "      <th>SMOKE</th>\n",
              "      <th>CH2O</th>\n",
              "      <th>family_history_with_overweight</th>\n",
              "      <th>FAF</th>\n",
              "      <th>TUE</th>\n",
              "      <th>CAEC</th>\n",
              "      <th>MTRANS</th>\n",
              "      <th>NObeyesdad</th>\n",
              "    </tr>\n",
              "  </thead>\n",
              "  <tbody>\n",
              "    <tr>\n",
              "      <th>count</th>\n",
              "      <td>2097</td>\n",
              "      <td>2102</td>\n",
              "      <td>2099</td>\n",
              "      <td>2100</td>\n",
              "      <td>2106</td>\n",
              "      <td>2100</td>\n",
              "      <td>2103</td>\n",
              "      <td>2099</td>\n",
              "      <td>2101</td>\n",
              "      <td>2106</td>\n",
              "      <td>2105</td>\n",
              "      <td>2098</td>\n",
              "      <td>2103</td>\n",
              "      <td>2102</td>\n",
              "      <td>2100</td>\n",
              "      <td>2105</td>\n",
              "      <td>2111</td>\n",
              "    </tr>\n",
              "    <tr>\n",
              "      <th>unique</th>\n",
              "      <td>1394</td>\n",
              "      <td>3</td>\n",
              "      <td>1562</td>\n",
              "      <td>1518</td>\n",
              "      <td>5</td>\n",
              "      <td>3</td>\n",
              "      <td>808</td>\n",
              "      <td>637</td>\n",
              "      <td>3</td>\n",
              "      <td>3</td>\n",
              "      <td>1263</td>\n",
              "      <td>3</td>\n",
              "      <td>1186</td>\n",
              "      <td>1130</td>\n",
              "      <td>5</td>\n",
              "      <td>6</td>\n",
              "      <td>7</td>\n",
              "    </tr>\n",
              "    <tr>\n",
              "      <th>top</th>\n",
              "      <td>18</td>\n",
              "      <td>Male</td>\n",
              "      <td>1.7</td>\n",
              "      <td>80</td>\n",
              "      <td>Sometimes</td>\n",
              "      <td>yes</td>\n",
              "      <td>3</td>\n",
              "      <td>3</td>\n",
              "      <td>no</td>\n",
              "      <td>no</td>\n",
              "      <td>2</td>\n",
              "      <td>yes</td>\n",
              "      <td>0</td>\n",
              "      <td>0</td>\n",
              "      <td>Sometimes</td>\n",
              "      <td>Public_Transportation</td>\n",
              "      <td>Obesity_Type_I</td>\n",
              "    </tr>\n",
              "    <tr>\n",
              "      <th>freq</th>\n",
              "      <td>124</td>\n",
              "      <td>1056</td>\n",
              "      <td>58</td>\n",
              "      <td>58</td>\n",
              "      <td>1386</td>\n",
              "      <td>1844</td>\n",
              "      <td>647</td>\n",
              "      <td>1183</td>\n",
              "      <td>1997</td>\n",
              "      <td>2054</td>\n",
              "      <td>441</td>\n",
              "      <td>1705</td>\n",
              "      <td>404</td>\n",
              "      <td>552</td>\n",
              "      <td>1747</td>\n",
              "      <td>1572</td>\n",
              "      <td>351</td>\n",
              "    </tr>\n",
              "  </tbody>\n",
              "</table>\n",
              "</div>\n",
              "    <div class=\"colab-df-buttons\">\n",
              "\n",
              "  <div class=\"colab-df-container\">\n",
              "    <button class=\"colab-df-convert\" onclick=\"convertToInteractive('df-da5401f6-02ff-48bf-acfd-e3ec2aa49bff')\"\n",
              "            title=\"Convert this dataframe to an interactive table.\"\n",
              "            style=\"display:none;\">\n",
              "\n",
              "  <svg xmlns=\"http://www.w3.org/2000/svg\" height=\"24px\" viewBox=\"0 -960 960 960\">\n",
              "    <path d=\"M120-120v-720h720v720H120Zm60-500h600v-160H180v160Zm220 220h160v-160H400v160Zm0 220h160v-160H400v160ZM180-400h160v-160H180v160Zm440 0h160v-160H620v160ZM180-180h160v-160H180v160Zm440 0h160v-160H620v160Z\"/>\n",
              "  </svg>\n",
              "    </button>\n",
              "\n",
              "  <style>\n",
              "    .colab-df-container {\n",
              "      display:flex;\n",
              "      gap: 12px;\n",
              "    }\n",
              "\n",
              "    .colab-df-convert {\n",
              "      background-color: #E8F0FE;\n",
              "      border: none;\n",
              "      border-radius: 50%;\n",
              "      cursor: pointer;\n",
              "      display: none;\n",
              "      fill: #1967D2;\n",
              "      height: 32px;\n",
              "      padding: 0 0 0 0;\n",
              "      width: 32px;\n",
              "    }\n",
              "\n",
              "    .colab-df-convert:hover {\n",
              "      background-color: #E2EBFA;\n",
              "      box-shadow: 0px 1px 2px rgba(60, 64, 67, 0.3), 0px 1px 3px 1px rgba(60, 64, 67, 0.15);\n",
              "      fill: #174EA6;\n",
              "    }\n",
              "\n",
              "    .colab-df-buttons div {\n",
              "      margin-bottom: 4px;\n",
              "    }\n",
              "\n",
              "    [theme=dark] .colab-df-convert {\n",
              "      background-color: #3B4455;\n",
              "      fill: #D2E3FC;\n",
              "    }\n",
              "\n",
              "    [theme=dark] .colab-df-convert:hover {\n",
              "      background-color: #434B5C;\n",
              "      box-shadow: 0px 1px 3px 1px rgba(0, 0, 0, 0.15);\n",
              "      filter: drop-shadow(0px 1px 2px rgba(0, 0, 0, 0.3));\n",
              "      fill: #FFFFFF;\n",
              "    }\n",
              "  </style>\n",
              "\n",
              "    <script>\n",
              "      const buttonEl =\n",
              "        document.querySelector('#df-da5401f6-02ff-48bf-acfd-e3ec2aa49bff button.colab-df-convert');\n",
              "      buttonEl.style.display =\n",
              "        google.colab.kernel.accessAllowed ? 'block' : 'none';\n",
              "\n",
              "      async function convertToInteractive(key) {\n",
              "        const element = document.querySelector('#df-da5401f6-02ff-48bf-acfd-e3ec2aa49bff');\n",
              "        const dataTable =\n",
              "          await google.colab.kernel.invokeFunction('convertToInteractive',\n",
              "                                                    [key], {});\n",
              "        if (!dataTable) return;\n",
              "\n",
              "        const docLinkHtml = 'Like what you see? Visit the ' +\n",
              "          '<a target=\"_blank\" href=https://colab.research.google.com/notebooks/data_table.ipynb>data table notebook</a>'\n",
              "          + ' to learn more about interactive tables.';\n",
              "        element.innerHTML = '';\n",
              "        dataTable['output_type'] = 'display_data';\n",
              "        await google.colab.output.renderOutput(dataTable, element);\n",
              "        const docLink = document.createElement('div');\n",
              "        docLink.innerHTML = docLinkHtml;\n",
              "        element.appendChild(docLink);\n",
              "      }\n",
              "    </script>\n",
              "  </div>\n",
              "\n",
              "\n",
              "    <div id=\"df-0610feec-603b-4ec1-af4e-6ea54a8f7df2\">\n",
              "      <button class=\"colab-df-quickchart\" onclick=\"quickchart('df-0610feec-603b-4ec1-af4e-6ea54a8f7df2')\"\n",
              "                title=\"Suggest charts\"\n",
              "                style=\"display:none;\">\n",
              "\n",
              "<svg xmlns=\"http://www.w3.org/2000/svg\" height=\"24px\"viewBox=\"0 0 24 24\"\n",
              "     width=\"24px\">\n",
              "    <g>\n",
              "        <path d=\"M19 3H5c-1.1 0-2 .9-2 2v14c0 1.1.9 2 2 2h14c1.1 0 2-.9 2-2V5c0-1.1-.9-2-2-2zM9 17H7v-7h2v7zm4 0h-2V7h2v10zm4 0h-2v-4h2v4z\"/>\n",
              "    </g>\n",
              "</svg>\n",
              "      </button>\n",
              "\n",
              "<style>\n",
              "  .colab-df-quickchart {\n",
              "      --bg-color: #E8F0FE;\n",
              "      --fill-color: #1967D2;\n",
              "      --hover-bg-color: #E2EBFA;\n",
              "      --hover-fill-color: #174EA6;\n",
              "      --disabled-fill-color: #AAA;\n",
              "      --disabled-bg-color: #DDD;\n",
              "  }\n",
              "\n",
              "  [theme=dark] .colab-df-quickchart {\n",
              "      --bg-color: #3B4455;\n",
              "      --fill-color: #D2E3FC;\n",
              "      --hover-bg-color: #434B5C;\n",
              "      --hover-fill-color: #FFFFFF;\n",
              "      --disabled-bg-color: #3B4455;\n",
              "      --disabled-fill-color: #666;\n",
              "  }\n",
              "\n",
              "  .colab-df-quickchart {\n",
              "    background-color: var(--bg-color);\n",
              "    border: none;\n",
              "    border-radius: 50%;\n",
              "    cursor: pointer;\n",
              "    display: none;\n",
              "    fill: var(--fill-color);\n",
              "    height: 32px;\n",
              "    padding: 0;\n",
              "    width: 32px;\n",
              "  }\n",
              "\n",
              "  .colab-df-quickchart:hover {\n",
              "    background-color: var(--hover-bg-color);\n",
              "    box-shadow: 0 1px 2px rgba(60, 64, 67, 0.3), 0 1px 3px 1px rgba(60, 64, 67, 0.15);\n",
              "    fill: var(--button-hover-fill-color);\n",
              "  }\n",
              "\n",
              "  .colab-df-quickchart-complete:disabled,\n",
              "  .colab-df-quickchart-complete:disabled:hover {\n",
              "    background-color: var(--disabled-bg-color);\n",
              "    fill: var(--disabled-fill-color);\n",
              "    box-shadow: none;\n",
              "  }\n",
              "\n",
              "  .colab-df-spinner {\n",
              "    border: 2px solid var(--fill-color);\n",
              "    border-color: transparent;\n",
              "    border-bottom-color: var(--fill-color);\n",
              "    animation:\n",
              "      spin 1s steps(1) infinite;\n",
              "  }\n",
              "\n",
              "  @keyframes spin {\n",
              "    0% {\n",
              "      border-color: transparent;\n",
              "      border-bottom-color: var(--fill-color);\n",
              "      border-left-color: var(--fill-color);\n",
              "    }\n",
              "    20% {\n",
              "      border-color: transparent;\n",
              "      border-left-color: var(--fill-color);\n",
              "      border-top-color: var(--fill-color);\n",
              "    }\n",
              "    30% {\n",
              "      border-color: transparent;\n",
              "      border-left-color: var(--fill-color);\n",
              "      border-top-color: var(--fill-color);\n",
              "      border-right-color: var(--fill-color);\n",
              "    }\n",
              "    40% {\n",
              "      border-color: transparent;\n",
              "      border-right-color: var(--fill-color);\n",
              "      border-top-color: var(--fill-color);\n",
              "    }\n",
              "    60% {\n",
              "      border-color: transparent;\n",
              "      border-right-color: var(--fill-color);\n",
              "    }\n",
              "    80% {\n",
              "      border-color: transparent;\n",
              "      border-right-color: var(--fill-color);\n",
              "      border-bottom-color: var(--fill-color);\n",
              "    }\n",
              "    90% {\n",
              "      border-color: transparent;\n",
              "      border-bottom-color: var(--fill-color);\n",
              "    }\n",
              "  }\n",
              "</style>\n",
              "\n",
              "      <script>\n",
              "        async function quickchart(key) {\n",
              "          const quickchartButtonEl =\n",
              "            document.querySelector('#' + key + ' button');\n",
              "          quickchartButtonEl.disabled = true;  // To prevent multiple clicks.\n",
              "          quickchartButtonEl.classList.add('colab-df-spinner');\n",
              "          try {\n",
              "            const charts = await google.colab.kernel.invokeFunction(\n",
              "                'suggestCharts', [key], {});\n",
              "          } catch (error) {\n",
              "            console.error('Error during call to suggestCharts:', error);\n",
              "          }\n",
              "          quickchartButtonEl.classList.remove('colab-df-spinner');\n",
              "          quickchartButtonEl.classList.add('colab-df-quickchart-complete');\n",
              "        }\n",
              "        (() => {\n",
              "          let quickchartButtonEl =\n",
              "            document.querySelector('#df-0610feec-603b-4ec1-af4e-6ea54a8f7df2 button');\n",
              "          quickchartButtonEl.style.display =\n",
              "            google.colab.kernel.accessAllowed ? 'block' : 'none';\n",
              "        })();\n",
              "      </script>\n",
              "    </div>\n",
              "\n",
              "    </div>\n",
              "  </div>\n"
            ],
            "application/vnd.google.colaboratory.intrinsic+json": {
              "type": "dataframe",
              "summary": "{\n  \"name\": \"df\",\n  \"rows\": 4,\n  \"fields\": [\n    {\n      \"column\": \"Age\",\n      \"properties\": {\n        \"dtype\": \"string\",\n        \"num_unique_values\": 4,\n        \"samples\": [\n          1394,\n          \"124\",\n          \"2097\"\n        ],\n        \"semantic_type\": \"\",\n        \"description\": \"\"\n      }\n    },\n    {\n      \"column\": \"Gender\",\n      \"properties\": {\n        \"dtype\": \"string\",\n        \"num_unique_values\": 4,\n        \"samples\": [\n          3,\n          \"1056\",\n          \"2102\"\n        ],\n        \"semantic_type\": \"\",\n        \"description\": \"\"\n      }\n    },\n    {\n      \"column\": \"Height\",\n      \"properties\": {\n        \"dtype\": \"string\",\n        \"num_unique_values\": 4,\n        \"samples\": [\n          1562,\n          \"58\",\n          \"2099\"\n        ],\n        \"semantic_type\": \"\",\n        \"description\": \"\"\n      }\n    },\n    {\n      \"column\": \"Weight\",\n      \"properties\": {\n        \"dtype\": \"string\",\n        \"num_unique_values\": 4,\n        \"samples\": [\n          1518,\n          \"58\",\n          \"2100\"\n        ],\n        \"semantic_type\": \"\",\n        \"description\": \"\"\n      }\n    },\n    {\n      \"column\": \"CALC\",\n      \"properties\": {\n        \"dtype\": \"string\",\n        \"num_unique_values\": 4,\n        \"samples\": [\n          5,\n          \"1386\",\n          \"2106\"\n        ],\n        \"semantic_type\": \"\",\n        \"description\": \"\"\n      }\n    },\n    {\n      \"column\": \"FAVC\",\n      \"properties\": {\n        \"dtype\": \"string\",\n        \"num_unique_values\": 4,\n        \"samples\": [\n          3,\n          \"1844\",\n          \"2100\"\n        ],\n        \"semantic_type\": \"\",\n        \"description\": \"\"\n      }\n    },\n    {\n      \"column\": \"FCVC\",\n      \"properties\": {\n        \"dtype\": \"string\",\n        \"num_unique_values\": 4,\n        \"samples\": [\n          808,\n          \"647\",\n          \"2103\"\n        ],\n        \"semantic_type\": \"\",\n        \"description\": \"\"\n      }\n    },\n    {\n      \"column\": \"NCP\",\n      \"properties\": {\n        \"dtype\": \"string\",\n        \"num_unique_values\": 4,\n        \"samples\": [\n          637,\n          \"1183\",\n          \"2099\"\n        ],\n        \"semantic_type\": \"\",\n        \"description\": \"\"\n      }\n    },\n    {\n      \"column\": \"SCC\",\n      \"properties\": {\n        \"dtype\": \"string\",\n        \"num_unique_values\": 4,\n        \"samples\": [\n          3,\n          \"1997\",\n          \"2101\"\n        ],\n        \"semantic_type\": \"\",\n        \"description\": \"\"\n      }\n    },\n    {\n      \"column\": \"SMOKE\",\n      \"properties\": {\n        \"dtype\": \"string\",\n        \"num_unique_values\": 4,\n        \"samples\": [\n          3,\n          \"2054\",\n          \"2106\"\n        ],\n        \"semantic_type\": \"\",\n        \"description\": \"\"\n      }\n    },\n    {\n      \"column\": \"CH2O\",\n      \"properties\": {\n        \"dtype\": \"string\",\n        \"num_unique_values\": 4,\n        \"samples\": [\n          1263,\n          \"441\",\n          \"2105\"\n        ],\n        \"semantic_type\": \"\",\n        \"description\": \"\"\n      }\n    },\n    {\n      \"column\": \"family_history_with_overweight\",\n      \"properties\": {\n        \"dtype\": \"string\",\n        \"num_unique_values\": 4,\n        \"samples\": [\n          3,\n          \"1705\",\n          \"2098\"\n        ],\n        \"semantic_type\": \"\",\n        \"description\": \"\"\n      }\n    },\n    {\n      \"column\": \"FAF\",\n      \"properties\": {\n        \"dtype\": \"string\",\n        \"num_unique_values\": 4,\n        \"samples\": [\n          1186,\n          \"404\",\n          \"2103\"\n        ],\n        \"semantic_type\": \"\",\n        \"description\": \"\"\n      }\n    },\n    {\n      \"column\": \"TUE\",\n      \"properties\": {\n        \"dtype\": \"string\",\n        \"num_unique_values\": 4,\n        \"samples\": [\n          1130,\n          \"552\",\n          \"2102\"\n        ],\n        \"semantic_type\": \"\",\n        \"description\": \"\"\n      }\n    },\n    {\n      \"column\": \"CAEC\",\n      \"properties\": {\n        \"dtype\": \"string\",\n        \"num_unique_values\": 4,\n        \"samples\": [\n          5,\n          \"1747\",\n          \"2100\"\n        ],\n        \"semantic_type\": \"\",\n        \"description\": \"\"\n      }\n    },\n    {\n      \"column\": \"MTRANS\",\n      \"properties\": {\n        \"dtype\": \"string\",\n        \"num_unique_values\": 4,\n        \"samples\": [\n          6,\n          \"1572\",\n          \"2105\"\n        ],\n        \"semantic_type\": \"\",\n        \"description\": \"\"\n      }\n    },\n    {\n      \"column\": \"NObeyesdad\",\n      \"properties\": {\n        \"dtype\": \"string\",\n        \"num_unique_values\": 4,\n        \"samples\": [\n          7,\n          \"351\",\n          \"2111\"\n        ],\n        \"semantic_type\": \"\",\n        \"description\": \"\"\n      }\n    }\n  ]\n}"
            }
          },
          "metadata": {},
          "execution_count": 157
        }
      ]
    },
    {
      "cell_type": "markdown",
      "source": [
        "**Penjelasan :**\n",
        "\n",
        "df.describe() digunakan untuk melihat ringkasan statistik yang memberikan gambaran distribusi data pada kolom numerik, termasuk rata-rata, standar deviasi, nilai minimum, maksimum, dan nilai kuartil. Ini penting untuk memahami karakteristik data sebelum pemodelan."
      ],
      "metadata": {
        "id": "mM3z9Ug3QCbh"
      }
    },
    {
      "cell_type": "markdown",
      "source": [
        "# **Mendeteksi SMOTE**\n",
        "\n",
        "---\n",
        "\n"
      ],
      "metadata": {
        "id": "56M9OYoTDpTG"
      }
    },
    {
      "cell_type": "code",
      "source": [
        "# Menampilkan jumlah data untuk setiap kelas pada kolom target 'NObeyesdad' sebelum dilakukan oversampling (SMOTE)\n",
        "print(df['NObeyesdad'].value_counts())\n",
        "\n",
        "# Membuat visualisasi distribusi kelas target menggunakan countplot\n",
        "sns.countplot(data=df, x='NObeyesdad')\n",
        "plt.xticks(rotation=45)  # Memutar label sumbu x agar tidak saling tumpang tindih\n",
        "plt.title('Distribusi Kelas Target (NObeyesdad)')  # Judul grafik\n",
        "plt.show()  # Menampilkan grafik\n"
      ],
      "metadata": {
        "colab": {
          "base_uri": "https://localhost:8080/",
          "height": 722
        },
        "id": "WC5heToK5PkY",
        "outputId": "c6c042d9-62c1-4fac-8a8c-ff6c8ad3bcb7"
      },
      "execution_count": null,
      "outputs": [
        {
          "output_type": "stream",
          "name": "stdout",
          "text": [
            "NObeyesdad\n",
            "Obesity_Type_I         351\n",
            "Obesity_Type_III       324\n",
            "Obesity_Type_II        297\n",
            "Overweight_Level_I     290\n",
            "Overweight_Level_II    290\n",
            "Normal_Weight          287\n",
            "Insufficient_Weight    272\n",
            "Name: count, dtype: int64\n"
          ]
        },
        {
          "output_type": "display_data",
          "data": {
            "text/plain": [
              "<Figure size 640x480 with 1 Axes>"
            ],
            "image/png": "[encoded data removed]"
          },
          "metadata": {}
        }
      ]
    },
    {
      "cell_type": "markdown",
      "source": [
        "**Penjelasan :**\n",
        "\n",
        "Kode ini digunakan untuk mengetahui jumlah data pada tiap kelas obesitas (target) sebelum dilakukan SMOTE. Visualisasi ini sangat penting untuk mengidentifikasi apakah terjadi ketidakseimbangan kelas (class imbalance) yang bisa memengaruhi kinerja model klasifikasi."
      ],
      "metadata": {
        "id": "qkUE4P2RPpWl"
      }
    },
    {
      "cell_type": "markdown",
      "source": [
        "# **Mendeteksi Outlayers**\n",
        "\n",
        "---\n",
        "\n"
      ],
      "metadata": {
        "id": "pjAe9oCFDycF"
      }
    },
    {
      "cell_type": "code",
      "source": [
        "# Tampilkan kolom bertipe numerik (int atau float)\n",
        "numeric_cols = df.select_dtypes(include=['float64', 'int64']).columns  # Menyeleksi kolom bertipe numerik\n",
        "print(\"Kolom numerik:\")  # Menampilkan judul output\n",
        "print(numeric_cols)      # Menampilkan daftar nama kolom numerik\n"
      ],
      "metadata": {
        "colab": {
          "base_uri": "https://localhost:8080/"
        },
        "id": "uOxecdYZ5W36",
        "outputId": "585a40f0-96cd-44b9-f175-2e2b1139ea05"
      },
      "execution_count": null,
      "outputs": [
        {
          "output_type": "stream",
          "name": "stdout",
          "text": [
            "Kolom numerik:\n",
            "Index([], dtype='object')\n"
          ]
        }
      ]
    },
    {
      "cell_type": "markdown",
      "source": [
        "**Penjelasan:**\n",
        "\n",
        "Kode ini berguna untuk mengetahui kolom-kolom dalam dataset yang bertipe numerik, yang biasanya dibutuhkan untuk analisis statistik, visualisasi, atau pemodelan machine learning seperti scaling dan deteksi outlier."
      ],
      "metadata": {
        "id": "h4TjWlM-PfF1"
      }
    },
    {
      "cell_type": "code",
      "source": [
        "def detect_outliers_iqr(data, column):\n",
        "    Q1 = data[column].quantile(0.25)             # Kuartil pertama (25%)\n",
        "    Q3 = data[column].quantile(0.75)             # Kuartil ketiga (75%)\n",
        "    IQR = Q3 - Q1                                # Rentang antar kuartil (IQR)\n",
        "    lower = Q1 - 1.5 * IQR                       # Batas bawah untuk outlier\n",
        "    upper = Q3 + 1.5 * IQR                       # Batas atas untuk outlier\n",
        "    outliers = data[(data[column] < lower) | (data[column] > upper)]  # Baris yang merupakan outlier\n",
        "    return outliers                              # Mengembalikan data outlier\n"
      ],
      "metadata": {
        "id": "1i0wyq0m5aa4"
      },
      "execution_count": null,
      "outputs": []
    },
    {
      "cell_type": "markdown",
      "source": [
        "**Penjelasan :**\n",
        "\n",
        "Fungsi ini mendeteksi outlier menggunakan metode IQR (Interquartile Range) dengan batas 1.5 kali IQR di bawah Q1 dan di atas Q3. Baris data yang nilai pada kolom tertentu berada di luar batas ini dikategorikan sebagai outlier."
      ],
      "metadata": {
        "id": "QpWE_stXQVlE"
      }
    },
    {
      "cell_type": "code",
      "source": [
        "for col in numeric_cols:  # Looping untuk setiap kolom numerik\n",
        "    outliers = detect_outliers_iqr(df, col)  # Deteksi outlier pada kolom tersebut menggunakan metode IQR\n",
        "    print(f\"\\nJumlah outlier pada kolom '{col}': {len(outliers)}\")  # Tampilkan jumlah outlier\n",
        "    if not outliers.empty:  # Jika ada outlier yang terdeteksi\n",
        "        print(outliers[[col]])  # Tampilkan nilai outlier pada kolom tersebut\n"
      ],
      "metadata": {
        "id": "EVmpZlRb5btH"
      },
      "execution_count": null,
      "outputs": []
    },
    {
      "cell_type": "markdown",
      "source": [
        "**Penjelasan :**\n",
        "\n",
        "Kode ini membantu mengidentifikasi outlier di setiap kolom numerik dalam dataset."
      ],
      "metadata": {
        "id": "j3Ik71w5IRVz"
      }
    },
    {
      "cell_type": "code",
      "source": [
        "# Daftar kolom numerik berdasarkan dataset Obesity\n",
        "numeric_cols = ['Age', 'Height', 'Weight', 'FCVC', 'NCP', 'CH2O', 'FAF', 'TUE']  # Kolom numerik untuk divisualisasikan\n",
        "\n",
        "# Plot boxplot untuk setiap kolom numerik\n",
        "for col in numeric_cols:  # Looping setiap kolom numerik\n",
        "    plt.figure(figsize=(8, 4))           # Ukuran figure\n",
        "    sns.boxplot(x=df[col])               # Membuat boxplot untuk kolom\n",
        "    plt.title(f\"Boxplot kolom {col}\")    # Judul grafik sesuai nama kolom\n",
        "    plt.xlabel(col)                      # Label sumbu x\n",
        "    plt.tight_layout()                   # Menata layout agar tidak terpotong\n",
        "    plt.show()                           # Menampilkan grafik\n"
      ],
      "metadata": {
        "colab": {
          "base_uri": "https://localhost:8080/",
          "height": 1000
        },
        "id": "7jYfFSkt5hjy",
        "outputId": "01602dd9-6457-4d79-cc1e-79f25f7e038c"
      },
      "execution_count": null,
      "outputs": [
        {
          "output_type": "display_data",
          "data": {
            "text/plain": [
              "<Figure size 800x400 with 1 Axes>"
            ],
            "image/png": "[encoded data removed]"
          },
          "metadata": {}
        },
        {
          "output_type": "display_data",
          "data": {
            "text/plain": [
              "<Figure size 800x400 with 1 Axes>"
            ],
            "image/png": "[encoded data removed]"
          },
          "metadata": {}
        },
        {
          "output_type": "display_data",
          "data": {
            "text/plain": [
              "<Figure size 800x400 with 1 Axes>"
            ],
            "image/png": "[encoded data removed]"
          },
          "metadata": {}
        },
        {
          "output_type": "display_data",
          "data": {
            "text/plain": [
              "<Figure size 800x400 with 1 Axes>"
            ],
            "image/png": "[encoded data removed]"
          },
          "metadata": {}
        },
        {
          "output_type": "display_data",
          "data": {
            "text/plain": [
              "<Figure size 800x400 with 1 Axes>"
            ],
            "image/png": "[encoded data removed]"
          },
          "metadata": {}
        },
        {
          "output_type": "display_data",
          "data": {
            "text/plain": [
              "<Figure size 800x400 with 1 Axes>"
            ],
            "image/png": "[encoded data removed]"
          },
          "metadata": {}
        },
        {
          "output_type": "display_data",
          "data": {
            "text/plain": [
              "<Figure size 800x400 with 1 Axes>"
            ],
            "image/png": "[encoded data removed]"
          },
          "metadata": {}
        },
        {
          "output_type": "display_data",
          "data": {
            "text/plain": [
              "<Figure size 800x400 with 1 Axes>"
            ],
            "image/png": "[encoded data removed]"
          },
          "metadata": {}
        }
      ]
    },
    {
      "cell_type": "markdown",
      "source": [
        "**Penjelasan:**\n",
        "\n",
        "Boxplot digunakan untuk melihat distribusi data dan mendeteksi outlier secara visual pada masing-masing kolom numerik."
      ],
      "metadata": {
        "id": "WQ_JO27pIObx"
      }
    },
    {
      "cell_type": "markdown",
      "source": [
        "# **Preprocessing**"
      ],
      "metadata": {
        "id": "0UJ1LraeD5zB"
      }
    },
    {
      "cell_type": "markdown",
      "source": [
        "# **Mengatasi Missing Values**\n",
        "\n",
        "---\n",
        "\n"
      ],
      "metadata": {
        "id": "DRX939AEEBVJ"
      }
    },
    {
      "cell_type": "code",
      "source": [
        "# Cek jumlah missing value per kolom\n",
        "print(\"Jumlah missing value per kolom:\")   # Menampilkan judul output\n",
        "print(df.isnull().sum())                   # Menampilkan jumlah nilai yang hilang (null) di setiap kolom\n"
      ],
      "metadata": {
        "colab": {
          "base_uri": "https://localhost:8080/"
        },
        "id": "C5dyP8F95vQd",
        "outputId": "fb6de43e-56a0-4e6b-bc4f-7435f3112bff"
      },
      "execution_count": null,
      "outputs": [
        {
          "output_type": "stream",
          "name": "stdout",
          "text": [
            "Jumlah missing value per kolom:\n",
            "Age                               14\n",
            "Gender                             9\n",
            "Height                            12\n",
            "Weight                            11\n",
            "CALC                               5\n",
            "FAVC                              11\n",
            "FCVC                               8\n",
            "NCP                               12\n",
            "SCC                               10\n",
            "SMOKE                              5\n",
            "CH2O                               6\n",
            "family_history_with_overweight    13\n",
            "FAF                                8\n",
            "TUE                                9\n",
            "CAEC                              11\n",
            "MTRANS                             6\n",
            "NObeyesdad                         0\n",
            "dtype: int64\n"
          ]
        }
      ]
    },
    {
      "cell_type": "markdown",
      "source": [
        "**Penjelasan:**\n",
        "\n",
        "Kode ini digunakan untuk mengetahui apakah terdapat data yang hilang (missing values) dalam setiap kolom dataset."
      ],
      "metadata": {
        "id": "CDK2KKplIIfm"
      }
    },
    {
      "cell_type": "code",
      "source": [
        "# Tangani kolom numerik: isi dengan median\n",
        "num_cols = df.select_dtypes(include=['float64', 'int64']).columns  # Pilih kolom bertipe numerik\n",
        "for col in num_cols:\n",
        "    df[col] = df[col].fillna(df[col].median())  # Isi missing value dengan nilai median masing-masing kolom\n",
        "\n",
        "# Tangani kolom kategorikal: isi dengan modus\n",
        "cat_cols = df.select_dtypes(include=['object']).columns  # Pilih kolom bertipe kategorikal (object/string)\n",
        "for col in cat_cols:\n",
        "    df[col] = df[col].fillna(df[col].mode()[0])  # Isi missing value dengan nilai modus (nilai yang paling sering muncul)\n"
      ],
      "metadata": {
        "id": "e6AEGKdY5-FC"
      },
      "execution_count": null,
      "outputs": []
    },
    {
      "cell_type": "markdown",
      "source": [
        "**Penjelasan:**\n",
        "\n",
        "- Median digunakan untuk data numerik karena lebih tahan terhadap outlier.\n",
        "\n",
        "- Modus digunakan untuk data kategorikal karena menunjukkan kategori yang paling umum."
      ],
      "metadata": {
        "id": "5QvrVWkHIBQL"
      }
    },
    {
      "cell_type": "code",
      "source": [
        "# Pastikan tidak ada missing value lagi\n",
        "print(\"Sisa missing value setelah ditangani:\")  # Menampilkan pesan pengecekan akhir\n",
        "print(df.isnull().sum())                        # Menampilkan jumlah missing value per kolom setelah proses imputasi\n"
      ],
      "metadata": {
        "colab": {
          "base_uri": "https://localhost:8080/"
        },
        "id": "O0mmrJ1r6BAD",
        "outputId": "934a602c-ad3b-4982-962d-93233ed350c6"
      },
      "execution_count": null,
      "outputs": [
        {
          "output_type": "stream",
          "name": "stdout",
          "text": [
            "Sisa missing value setelah ditangani:\n",
            "Age                               0\n",
            "Gender                            0\n",
            "Height                            0\n",
            "Weight                            0\n",
            "CALC                              0\n",
            "FAVC                              0\n",
            "FCVC                              0\n",
            "NCP                               0\n",
            "SCC                               0\n",
            "SMOKE                             0\n",
            "CH2O                              0\n",
            "family_history_with_overweight    0\n",
            "FAF                               0\n",
            "TUE                               0\n",
            "CAEC                              0\n",
            "MTRANS                            0\n",
            "NObeyesdad                        0\n",
            "dtype: int64\n"
          ]
        }
      ]
    },
    {
      "cell_type": "markdown",
      "source": [
        "**Penjelasan:**\n",
        "\n",
        "Kode ini digunakan untuk memverifikasi bahwa semua missing value sudah berhasil diatasi dan dataset siap digunakan untuk analisis atau modeling."
      ],
      "metadata": {
        "id": "B2-R9w0gH8XJ"
      }
    },
    {
      "cell_type": "markdown",
      "source": [
        "# **Menangani SMOTE**\n",
        "\n",
        "---\n",
        "\n"
      ],
      "metadata": {
        "id": "HRDIqYiyENlL"
      }
    },
    {
      "cell_type": "code",
      "source": [
        "# Misalnya target kolom adalah 'NObeyesdad'\n",
        "X = df.drop('NObeyesdad', axis=1)  # X adalah fitur (semua kolom kecuali kolom target)\n",
        "y = df['NObeyesdad']               # y adalah label atau target (kolom yang ingin diprediksi)\n"
      ],
      "metadata": {
        "id": "ld0m_fQm6FlB"
      },
      "execution_count": null,
      "outputs": []
    },
    {
      "cell_type": "markdown",
      "source": [
        "**Penjelasan:**\n",
        "\n",
        "Kode ini memisahkan fitur (X) dan target (y), yang merupakan langkah penting sebelum melakukan pelatihan model machine learning."
      ],
      "metadata": {
        "id": "ZgNn81fjIjLD"
      }
    },
    {
      "cell_type": "code",
      "source": [
        "# Encoding data kategorik jika ada\n",
        "X = pd.get_dummies(X, drop_first=True)  # Mengubah kolom kategorikal menjadi numerik dengan One-Hot Encoding, drop_first untuk menghindari multikolinearitas\n",
        "X = X.astype(float)                     # Mengubah semua kolom menjadi tipe float agar kompatibel dengan model machine learning\n"
      ],
      "metadata": {
        "id": "DmFwhqxn6HaC"
      },
      "execution_count": null,
      "outputs": []
    },
    {
      "cell_type": "markdown",
      "source": [
        "**Penjelasan:**\n",
        "\n",
        "One-Hot Encoding diperlukan agar model dapat memproses fitur kategorikal, dan astype(float) memastikan semua data dalam format numerik yang sesuai."
      ],
      "metadata": {
        "id": "vRBV9qJ_ItWU"
      }
    },
    {
      "cell_type": "code",
      "source": [
        "# Split dulu agar tidak ada data leakage\n",
        "X_train, X_test, y_train, y_test = train_test_split(\n",
        "    X, y, stratify=y,        # Membagi data fitur dan target menjadi data latih dan data uji dengan proporsi label yang seimbang\n",
        "    test_size=0.2,           # 20% data digunakan untuk pengujian, 80% untuk pelatihan\n",
        "    random_state=42          # Menetapkan seed agar hasil split konsisten\n",
        ")\n"
      ],
      "metadata": {
        "id": "-Yf2LCB-6K05"
      },
      "execution_count": null,
      "outputs": []
    },
    {
      "cell_type": "markdown",
      "source": [
        "**Penjelasan:**\n",
        "\n",
        "Langkah ini penting untuk menghindari data leakage, yaitu ketika informasi dari data uji ikut masuk ke pelatihan model, yang bisa menyebabkan hasil evaluasi tidak akurat."
      ],
      "metadata": {
        "id": "-7vWjTsYI565"
      }
    },
    {
      "cell_type": "code",
      "source": [
        "# Terapkan SMOTE\n",
        "smote = SMOTE(random_state=42)                       # Inisialisasi objek SMOTE dengan seed random\n",
        "X_resampled, y_resampled = smote.fit_resample(X_train, y_train)  # Menyeimbangkan data latih dengan menambahkan sampel dari kelas minoritas\n"
      ],
      "metadata": {
        "id": "kJw1FP9p6N9_"
      },
      "execution_count": null,
      "outputs": []
    },
    {
      "cell_type": "markdown",
      "source": [
        "**Penjelasan:**\n",
        "\n",
        "SMOTE (Synthetic Minority Over-sampling Technique) digunakan untuk mengatasi masalah data tidak seimbang dengan membuat data sintetis dari kelas minoritas agar model tidak bias."
      ],
      "metadata": {
        "id": "Y8KppSBHJL8H"
      }
    },
    {
      "cell_type": "code",
      "source": [
        "# Buat DataFrame dari hasil SMOTE untuk visualisasi\n",
        "df_resampled = pd.DataFrame(X_resampled)  # Mengubah data hasil SMOTE menjadi DataFrame\n",
        "df_resampled['label'] = y_resampled       # Menambahkan kolom 'label' sebagai target dari data hasil resampling\n"
      ],
      "metadata": {
        "colab": {
          "base_uri": "https://localhost:8080/"
        },
        "id": "EZl8zOnk6TmJ",
        "outputId": "6ecc0888-311f-4e5d-dfa0-c413a36b5848"
      },
      "execution_count": null,
      "outputs": [
        {
          "output_type": "stream",
          "name": "stderr",
          "text": [
            "<ipython-input-172-2484854124>:3: PerformanceWarning: DataFrame is highly fragmented.  This is usually the result of calling `frame.insert` many times, which has poor performance.  Consider joining all columns at once using pd.concat(axis=1) instead. To get a de-fragmented frame, use `newframe = frame.copy()`\n",
            "  df_resampled['label'] = y_resampled       # Menambahkan kolom 'label' sebagai target dari data hasil resampling\n"
          ]
        }
      ]
    },
    {
      "cell_type": "markdown",
      "source": [
        "**Penjelasan:**\n",
        "\n",
        "Langkah ini dilakukan agar hasil dari SMOTE bisa lebih mudah dianalisis atau divisualisasikan, karena sudah dalam bentuk DataFrame seperti data awal."
      ],
      "metadata": {
        "id": "x8o2iHyNJSNU"
      }
    },
    {
      "cell_type": "code",
      "source": [
        "# Plot distribusi kelas setelah SMOTE\n",
        "plt.figure(figsize=(8, 5))  # Mengatur ukuran plot\n",
        "sns.countplot(              # Membuat plot jumlah data per kelas setelah SMOTE\n",
        "    data=df_resampled,\n",
        "    x='label',\n",
        "    order=sorted(df_resampled['label'].unique())  # Mengurutkan label agar tampil rapi\n",
        ")\n",
        "plt.title('Distribusi Kelas Setelah SMOTE')  # Judul grafik\n",
        "plt.xlabel('Kelas')                          # Label sumbu X\n",
        "plt.ylabel('Jumlah')                         # Label sumbu Y\n",
        "plt.xticks(rotation=45)                      # Memutar label X agar tidak bertumpuk\n",
        "plt.tight_layout()                           # Menata tata letak grafik\n",
        "plt.show()                                   # Menampilkan grafik\n"
      ],
      "metadata": {
        "colab": {
          "base_uri": "https://localhost:8080/",
          "height": 506
        },
        "id": "nkaIcV-r6XqG",
        "outputId": "10fa5e9b-890a-4045-c4e5-6240c63dc8c2"
      },
      "execution_count": null,
      "outputs": [
        {
          "output_type": "display_data",
          "data": {
            "text/plain": [
              "<Figure size 800x500 with 1 Axes>"
            ],
            "image/png": "[encoded data removed]"
          },
          "metadata": {}
        }
      ]
    },
    {
      "cell_type": "markdown",
      "source": [
        "**Penjelasan:**\n",
        "\n",
        "Grafik ini digunakan untuk memastikan bahwa distribusi kelas setelah SMOTE sudah seimbang, sehingga model tidak lagi bias terhadap kelas mayoritas."
      ],
      "metadata": {
        "id": "-vBRl-AEJcaM"
      }
    },
    {
      "cell_type": "markdown",
      "source": [
        "# **Mengecek Outlayer**\n",
        "\n",
        "---\n",
        "\n"
      ],
      "metadata": {
        "id": "GkxkmatwETkd"
      }
    },
    {
      "cell_type": "code",
      "source": [
        "# Pilih hanya kolom numerik (float atau int)\n",
        "numeric_cols = df.select_dtypes(include=['float64', 'int64']).columns.tolist()  # Menyeleksi dan mengubah kolom numerik menjadi list\n",
        "print(\"Kolom numerik asli:\", numeric_cols)  # Menampilkan daftar nama kolom numerik\n"
      ],
      "metadata": {
        "colab": {
          "base_uri": "https://localhost:8080/"
        },
        "id": "dof0xvJG6a7T",
        "outputId": "f3bb7f1e-cd9a-4b58-f9e9-445d62eb89d3"
      },
      "execution_count": null,
      "outputs": [
        {
          "output_type": "stream",
          "name": "stdout",
          "text": [
            "Kolom numerik asli: []\n"
          ]
        }
      ]
    },
    {
      "cell_type": "markdown",
      "source": [
        "**Penjelasan:**\n",
        "\n",
        "Langkah ini berguna untuk memfokuskan analisis atau preprocessing hanya pada data numerik, yang biasanya diperlukan dalam banyak teknik analisis statistik atau machine learning."
      ],
      "metadata": {
        "id": "_YVO4_YDJlrM"
      }
    },
    {
      "cell_type": "code",
      "source": [
        "def remove_outliers_iqr(df, column):\n",
        "    Q1 = df[column].quantile(0.25)                   # Kuartil pertama (Q1) dari kolom\n",
        "    Q3 = df[column].quantile(0.75)                   # Kuartil ketiga (Q3) dari kolom\n",
        "    IQR = Q3 - Q1                                    # Rentang antar kuartil (IQR)\n",
        "    lower_bound = Q1 - 1.5 * IQR                     # Batas bawah untuk outlier\n",
        "    upper_bound = Q3 + 1.5 * IQR                     # Batas atas untuk outlier\n",
        "    return df[(df[column] >= lower_bound) &\n",
        "              (df[column] <= upper_bound)]           # Mengembalikan data yang berada dalam rentang normal (tanpa outlier)\n"
      ],
      "metadata": {
        "id": "8nasF1oe6ejJ"
      },
      "execution_count": null,
      "outputs": []
    },
    {
      "cell_type": "markdown",
      "source": [
        "**Penjelasan:**\n",
        "\n",
        "Fungsi ini digunakan untuk menghapus outlier dari sebuah kolom numerik dalam DataFrame dengan metode IQR, menjaga hanya data yang berada dalam batas bawah dan atas."
      ],
      "metadata": {
        "id": "rIoohUmAJvBq"
      }
    },
    {
      "cell_type": "code",
      "source": [
        "for col in numeric_cols:                        # Loop melalui setiap kolom numerik\n",
        "    before = len(df)                            # Simpan jumlah baris sebelum outlier dihapus\n",
        "    df = remove_outliers_iqr(df, col)           # Hapus outlier dari kolom menggunakan fungsi IQR\n",
        "    after = len(df)                             # Simpan jumlah baris setelah outlier dihapus\n",
        "    print(f\"{col}: removed {before - after} outliers\")  # Tampilkan jumlah outlier yang dihapus pada kolom tersebut\n"
      ],
      "metadata": {
        "id": "hITuO4pz6hpT"
      },
      "execution_count": null,
      "outputs": []
    },
    {
      "cell_type": "markdown",
      "source": [
        "**Penjelasan:**\n",
        "\n",
        "Kode ini secara bertahap menghapus outlier dari setiap kolom numerik dalam dataset dan mencetak jumlah data yang dihapus, sehingga kamu bisa memantau dampaknya terhadap ukuran dataset."
      ],
      "metadata": {
        "id": "0EGFZ6YFJ5Cz"
      }
    },
    {
      "cell_type": "code",
      "source": [
        "print(\"Jumlah data setelah hapus outlier:\", df.shape)  # Menampilkan jumlah baris dan kolom data setelah proses penghapusan outlier\n"
      ],
      "metadata": {
        "colab": {
          "base_uri": "https://localhost:8080/"
        },
        "id": "hsy33Nyg6k4y",
        "outputId": "0a695767-911b-484a-d370-2445a57909e3"
      },
      "execution_count": null,
      "outputs": [
        {
          "output_type": "stream",
          "name": "stdout",
          "text": [
            "Jumlah data setelah hapus outlier: (2111, 17)\n"
          ]
        }
      ]
    },
    {
      "cell_type": "markdown",
      "source": [
        "**Penjelasan:**\n",
        "\n",
        "df.shape mengembalikan tuple (jumlah_baris, jumlah_kolom), sehingga kamu bisa melihat seberapa banyak data yang tersisa setelah outlier dihapus."
      ],
      "metadata": {
        "id": "cpmneUUiKDZy"
      }
    },
    {
      "cell_type": "markdown",
      "source": [
        "# **Korelasi numerik dan headmap**\n",
        "\n",
        "---\n",
        "\n"
      ],
      "metadata": {
        "id": "JMIadjREEbWM"
      }
    },
    {
      "cell_type": "code",
      "source": [
        "# Ambil hanya kolom numerik dari DataFrame hasil SMOTE\n",
        "df_resampled = pd.DataFrame(X_resampled)  # Mengubah hasil X_resampled (array) menjadi DataFrame\n",
        "df_resampled['label'] = y_resampled       # Menambahkan kolom 'label' sebagai target dari hasil resampling\n"
      ],
      "metadata": {
        "colab": {
          "base_uri": "https://localhost:8080/"
        },
        "id": "_LqOqcbu6oUq",
        "outputId": "667ff688-7974-4ee6-eee4-65fa5c201efa"
      },
      "execution_count": null,
      "outputs": [
        {
          "output_type": "stream",
          "name": "stderr",
          "text": [
            "<ipython-input-178-1233629334>:3: PerformanceWarning: DataFrame is highly fragmented.  This is usually the result of calling `frame.insert` many times, which has poor performance.  Consider joining all columns at once using pd.concat(axis=1) instead. To get a de-fragmented frame, use `newframe = frame.copy()`\n",
            "  df_resampled['label'] = y_resampled       # Menambahkan kolom 'label' sebagai target dari hasil resampling\n"
          ]
        }
      ]
    },
    {
      "cell_type": "markdown",
      "source": [
        "**Penjelasan :**\n",
        "\n",
        "Langkah ini menggabungkan fitur dan label hasil SMOTE ke dalam satu DataFrame agar memudahkan proses analisis, visualisasi, atau pelatihan model berikutnya."
      ],
      "metadata": {
        "id": "Rn6jdiyBKOLF"
      }
    },
    {
      "cell_type": "code",
      "source": [
        "print(df.dtypes)  # Menampilkan tipe data (data types) dari setiap kolom dalam DataFrame\n"
      ],
      "metadata": {
        "colab": {
          "base_uri": "https://localhost:8080/"
        },
        "id": "RS3xIjxh6195",
        "outputId": "2ac600f9-0c93-4b83-d13f-51d577bf50f2"
      },
      "execution_count": null,
      "outputs": [
        {
          "output_type": "stream",
          "name": "stdout",
          "text": [
            "Age                               object\n",
            "Gender                            object\n",
            "Height                            object\n",
            "Weight                            object\n",
            "CALC                              object\n",
            "FAVC                              object\n",
            "FCVC                              object\n",
            "NCP                               object\n",
            "SCC                               object\n",
            "SMOKE                             object\n",
            "CH2O                              object\n",
            "family_history_with_overweight    object\n",
            "FAF                               object\n",
            "TUE                               object\n",
            "CAEC                              object\n",
            "MTRANS                            object\n",
            "NObeyesdad                        object\n",
            "dtype: object\n"
          ]
        }
      ]
    },
    {
      "cell_type": "markdown",
      "source": [
        "**Penjelasan :**\n",
        "\n",
        "Digunakan untuk mengetahui jenis tipe data tiap kolom (seperti int64, float64, atau object) agar dapat menentukan metode preprocessing yang tepat (misalnya encoding untuk tipe object, scaling untuk tipe numerik)."
      ],
      "metadata": {
        "id": "GJ5EcBEuKdFM"
      }
    },
    {
      "cell_type": "code",
      "source": [
        "# Konversi kolom numerik (yang awalnya mungkin terbaca sebagai object/string)\n",
        "cols_to_convert = ['Age', 'Height', 'Weight', 'FCVC', 'NCP', 'FAF', 'TUE']  # Daftar kolom yang seharusnya numerik\n",
        "for col in cols_to_convert:\n",
        "    df[col] = pd.to_numeric(df[col], errors='coerce')  # Mengonversi ke numerik, jika gagal akan menjadi NaN\n",
        "\n",
        "# Pilih hanya kolom numerik\n",
        "numerical_df = df.select_dtypes(include=['float64', 'int64'])  # Memilih semua kolom bertipe numerik dari DataFrame\n",
        "\n",
        "# Cek apakah sudah ada kolom numerik\n",
        "if not numerical_df.empty:  # Jika DataFrame tidak kosong\n",
        "    plt.figure(figsize=(18, 12))  # Ukuran figure untuk heatmap\n",
        "    sns.heatmap(numerical_df.corr(), annot=True, fmt='.2f', cmap='coolwarm')  # Membuat heatmap korelasi antar fitur numerik\n",
        "    plt.title(\"Correlation Heatmap - Obesity Dataset\", fontsize=16)  # Judul grafik\n",
        "    plt.show()  # Menampilkan heatmap\n",
        "else:\n",
        "    print(\"Tidak ada kolom numerik yang tersedia untuk heatmap.\")  # Pesan jika semua kolom gagal dikonversi atau tidak ada kolom numerik\n"
      ],
      "metadata": {
        "colab": {
          "base_uri": "https://localhost:8080/",
          "height": 661
        },
        "id": "rMjpYnO28IKp",
        "outputId": "441066d0-8f93-4fd5-b834-89cd50cd0081"
      },
      "execution_count": null,
      "outputs": [
        {
          "output_type": "display_data",
          "data": {
            "text/plain": [
              "<Figure size 1800x1200 with 2 Axes>"
            ],
            "image/png": "[encoded data removed]"
          },
          "metadata": {}
        }
      ]
    },
    {
      "cell_type": "markdown",
      "source": [
        "**Penjelasan :**\n",
        "\n",
        "- Bagian ini memastikan bahwa kolom yang seharusnya numerik (tapi mungkin terbaca sebagai string) dikonversi ke format numerik.\n",
        "\n",
        "- Setelah itu, dibuat heatmap korelasi antar kolom numerik untuk memahami hubungan antar fitur dalam dataset obesitas."
      ],
      "metadata": {
        "id": "A6gFjYADKsPg"
      }
    },
    {
      "cell_type": "markdown",
      "source": [
        "# **Compairing**\n",
        "\n",
        "---\n",
        "\n"
      ],
      "metadata": {
        "id": "mZJ7iZvjEiBw"
      }
    },
    {
      "cell_type": "markdown",
      "source": [
        "# **Pemodelan**"
      ],
      "metadata": {
        "id": "5gy3i82wElTt"
      }
    },
    {
      "cell_type": "code",
      "source": [
        "tree = DecisionTreeClassifier(random_state=42)       # Inisialisasi model Decision Tree dengan random state agar hasil konsisten\n",
        "tree.fit(X_resampled, y_resampled)                   # Melatih model dengan data latih hasil SMOTE\n",
        "y_pred_tree = tree.predict(X_test)                   # Memprediksi data uji menggunakan model Decision Tree\n",
        "\n",
        "# Evaluasi performa model\n",
        "print(\"Akurasi Decision Tree:\", accuracy_score(y_test, y_pred_tree))  # Menampilkan skor akurasi\n",
        "print(classification_report(y_test, y_pred_tree))                      # Menampilkan metrik evaluasi: precision, recall, f1-score\n",
        "\n",
        "# Visualisasi Confusion Matrix\n",
        "sns.heatmap(confusion_matrix(y_test, y_pred_tree),   # Membuat confusion matrix sebagai heatmap\n",
        "            annot=True, fmt='d', cmap='Blues')       # Menampilkan angka, format integer, warna biru\n",
        "plt.title(\"Confusion Matrix - Decision Tree\")         # Judul grafik\n",
        "plt.xlabel(\"Predicted\")                               # Label sumbu X\n",
        "plt.ylabel(\"Actual\")                                  # Label sumbu Y\n",
        "plt.show()                                            # Menampilkan grafik\n"
      ],
      "metadata": {
        "colab": {
          "base_uri": "https://localhost:8080/",
          "height": 732
        },
        "id": "7O6xxeoN8iPG",
        "outputId": "22479806-5946-45ba-c2cc-61cb8806498b"
      },
      "execution_count": null,
      "outputs": [
        {
          "output_type": "stream",
          "name": "stdout",
          "text": [
            "Akurasi Decision Tree: 0.7044917257683215\n",
            "                     precision    recall  f1-score   support\n",
            "\n",
            "Insufficient_Weight       0.74      0.85      0.79        54\n",
            "      Normal_Weight       0.62      0.55      0.58        58\n",
            "     Obesity_Type_I       0.61      0.66      0.63        70\n",
            "    Obesity_Type_II       0.75      0.78      0.76        60\n",
            "   Obesity_Type_III       0.97      0.95      0.96        65\n",
            " Overweight_Level_I       0.57      0.50      0.53        58\n",
            "Overweight_Level_II       0.64      0.62      0.63        58\n",
            "\n",
            "           accuracy                           0.70       423\n",
            "          macro avg       0.70      0.70      0.70       423\n",
            "       weighted avg       0.70      0.70      0.70       423\n",
            "\n"
          ]
        },
        {
          "output_type": "display_data",
          "data": {
            "text/plain": [
              "<Figure size 640x480 with 2 Axes>"
            ],
            "image/png": "[encoded data removed]"
          },
          "metadata": {}
        }
      ]
    },
    {
      "cell_type": "markdown",
      "source": [
        "**Penjelasan :**\n",
        "\n",
        "Kode ini melatih model Decision Tree pada data hasil oversampling (SMOTE), kemudian mengevaluasi performanya dengan akurasi, classification report, dan confusion matrix untuk melihat seberapa baik model mengklasifikasi data obesitas."
      ],
      "metadata": {
        "id": "QbdVjsdCK9Hp"
      }
    },
    {
      "cell_type": "code",
      "source": [
        "from sklearn.ensemble import RandomForestClassifier  # Import model Random Forest\n",
        "\n",
        "rf = RandomForestClassifier(random_state=42)         # Inisialisasi model Random Forest\n",
        "rf.fit(X_resampled, y_resampled)                     # Melatih model menggunakan data hasil SMOTE\n",
        "y_pred_rf = rf.predict(X_test)                       # Memprediksi kelas dari data uji\n",
        "\n",
        "# Evaluasi performa model\n",
        "print(\"Akurasi Random Forest:\", accuracy_score(y_test, y_pred_rf))   # Menampilkan nilai akurasi\n",
        "print(classification_report(y_test, y_pred_rf))                      # Menampilkan metrik evaluasi: precision, recall, f1-score\n",
        "\n",
        "# Visualisasi Confusion Matrix\n",
        "sns.heatmap(confusion_matrix(y_test, y_pred_rf),     # Membuat heatmap dari confusion matrix\n",
        "            annot=True, fmt='d', cmap='Greens')      # Menampilkan angka, format integer, menggunakan colormap hijau\n",
        "plt.title(\"Confusion Matrix - Random Forest\")         # Judul grafik\n",
        "plt.xlabel(\"Predicted\")                               # Label sumbu X\n",
        "plt.ylabel(\"Actual\")                                  # Label sumbu Y\n",
        "plt.show()                                            # Menampilkan grafik\n"
      ],
      "metadata": {
        "colab": {
          "base_uri": "https://localhost:8080/",
          "height": 732
        },
        "id": "jGFdrE2I89SA",
        "outputId": "18c22a35-d6d8-4768-cbde-d2c5377539d3"
      },
      "execution_count": null,
      "outputs": [
        {
          "output_type": "stream",
          "name": "stdout",
          "text": [
            "Akurasi Random Forest: 0.7683215130023641\n",
            "                     precision    recall  f1-score   support\n",
            "\n",
            "Insufficient_Weight       0.93      0.72      0.81        54\n",
            "      Normal_Weight       0.66      0.95      0.78        58\n",
            "     Obesity_Type_I       0.64      0.69      0.66        70\n",
            "    Obesity_Type_II       0.67      0.93      0.78        60\n",
            "   Obesity_Type_III       1.00      0.98      0.99        65\n",
            " Overweight_Level_I       0.90      0.47      0.61        58\n",
            "Overweight_Level_II       0.78      0.62      0.69        58\n",
            "\n",
            "           accuracy                           0.77       423\n",
            "          macro avg       0.80      0.77      0.76       423\n",
            "       weighted avg       0.80      0.77      0.76       423\n",
            "\n"
          ]
        },
        {
          "output_type": "display_data",
          "data": {
            "text/plain": [
              "<Figure size 640x480 with 2 Axes>"
            ],
            "image/png": "[encoded data removed]"
          },
          "metadata": {}
        }
      ]
    },
    {
      "cell_type": "markdown",
      "source": [
        "**Penjelasan :**\n",
        "\n",
        "Kode ini melatih model Random Forest, memprediksi hasil pada data uji, dan menilai performa model melalui akurasi, classification report, dan confusion matrix. Random Forest biasanya lebih akurat daripada Decision Tree karena merupakan ensemble dari banyak pohon."
      ],
      "metadata": {
        "id": "z-9ZJ8GdLL_h"
      }
    },
    {
      "cell_type": "code",
      "source": [
        "from sklearn.linear_model import LogisticRegression  # Import model Logistic Regression\n",
        "\n",
        "logreg = LogisticRegression(max_iter=1000, random_state=42)  # Inisialisasi model dengan maksimum iterasi 1000\n",
        "logreg.fit(X_resampled, y_resampled)                        # Melatih model menggunakan data hasil SMOTE\n",
        "y_pred_log = logreg.predict(X_test)                         # Memprediksi kelas data uji\n",
        "\n",
        "# Evaluasi performa model\n",
        "print(\"Akurasi Logistic Regression:\", accuracy_score(y_test, y_pred_log))  # Menampilkan akurasi prediksi\n",
        "print(classification_report(y_test, y_pred_log))                           # Menampilkan precision, recall, dan f1-score\n",
        "\n",
        "# Visualisasi Confusion Matrix\n",
        "sns.heatmap(confusion_matrix(y_test, y_pred_log),           # Membuat heatmap dari confusion matrix\n",
        "            annot=True, fmt='d', cmap='Purples')            # Menampilkan nilai dalam format integer, warna ungu\n",
        "plt.title(\"Confusion Matrix - Logistic Regression\")         # Judul grafik\n",
        "plt.xlabel(\"Predicted\")                                     # Label sumbu X\n",
        "plt.ylabel(\"Actual\")                                        # Label sumbu Y\n",
        "plt.show()                                                  # Menampilkan heatmap\n"
      ],
      "metadata": {
        "colab": {
          "base_uri": "https://localhost:8080/",
          "height": 732
        },
        "id": "q2A_o8p49CFT",
        "outputId": "f6f7e40b-ff91-4c72-a43a-d042cab2cf2d"
      },
      "execution_count": null,
      "outputs": [
        {
          "output_type": "stream",
          "name": "stdout",
          "text": [
            "Akurasi Logistic Regression: 0.6619385342789598\n",
            "                     precision    recall  f1-score   support\n",
            "\n",
            "Insufficient_Weight       0.71      0.59      0.65        54\n",
            "      Normal_Weight       0.73      0.78      0.75        58\n",
            "     Obesity_Type_I       0.49      0.51      0.50        70\n",
            "    Obesity_Type_II       0.65      0.93      0.77        60\n",
            "   Obesity_Type_III       1.00      0.98      0.99        65\n",
            " Overweight_Level_I       0.47      0.47      0.47        58\n",
            "Overweight_Level_II       0.57      0.34      0.43        58\n",
            "\n",
            "           accuracy                           0.66       423\n",
            "          macro avg       0.66      0.66      0.65       423\n",
            "       weighted avg       0.66      0.66      0.65       423\n",
            "\n"
          ]
        },
        {
          "output_type": "display_data",
          "data": {
            "text/plain": [
              "<Figure size 640x480 with 2 Axes>"
            ],
            "image/png": "[encoded data removed]"
          },
          "metadata": {}
        }
      ]
    },
    {
      "cell_type": "markdown",
      "source": [
        "**Penjelasan :**\n",
        "\n",
        "Logistic Regression digunakan untuk klasifikasi multikelas. Kode ini melatih model dengan data hasil SMOTE, mengevaluasi hasilnya menggunakan metrik umum, dan memvisualisasikan akurasi prediksi melalui confusion matrix. max_iter=1000 digunakan agar model cukup waktu untuk konvergen."
      ],
      "metadata": {
        "id": "NYFg8P0NLsu5"
      }
    },
    {
      "cell_type": "code",
      "source": [
        "from sklearn.neighbors import KNeighborsClassifier  # Import model K-Nearest Neighbors (KNN)\n",
        "\n",
        "knn = KNeighborsClassifier()                        # Inisialisasi model KNN dengan parameter default (n_neighbors=5)\n",
        "knn.fit(X_resampled, y_resampled)                   # Melatih model KNN dengan data hasil SMOTE\n",
        "y_pred_knn = knn.predict(X_test)                    # Memprediksi kelas dari data uji\n",
        "\n",
        "# Evaluasi performa model\n",
        "print(\"Akurasi KNN:\", accuracy_score(y_test, y_pred_knn))          # Menampilkan skor akurasi\n",
        "print(classification_report(y_test, y_pred_knn))                   # Menampilkan precision, recall, dan f1-score\n",
        "\n",
        "# Visualisasi Confusion Matrix\n",
        "sns.heatmap(confusion_matrix(y_test, y_pred_knn),                 # Membuat heatmap dari confusion matrix\n",
        "            annot=True, fmt='d', cmap='Oranges')                  # Menampilkan angka, format integer, warna oranye\n",
        "plt.title(\"Confusion Matrix - KNN\")                                # Judul heatmap\n",
        "plt.xlabel(\"Predicted\")                                            # Label sumbu X\n",
        "plt.ylabel(\"Actual\")                                               # Label sumbu Y\n",
        "plt.show()                                                         # Menampilkan heatmap\n"
      ],
      "metadata": {
        "colab": {
          "base_uri": "https://localhost:8080/",
          "height": 732
        },
        "id": "7q1xdiU79N2S",
        "outputId": "053be0a5-025c-4a6f-fa0e-e26db74fd4af"
      },
      "execution_count": null,
      "outputs": [
        {
          "output_type": "stream",
          "name": "stdout",
          "text": [
            "Akurasi KNN: 0.6217494089834515\n",
            "                     precision    recall  f1-score   support\n",
            "\n",
            "Insufficient_Weight       0.69      0.80      0.74        54\n",
            "      Normal_Weight       0.44      0.67      0.53        58\n",
            "     Obesity_Type_I       0.81      0.24      0.37        70\n",
            "    Obesity_Type_II       0.73      0.63      0.68        60\n",
            "   Obesity_Type_III       0.86      0.98      0.92        65\n",
            " Overweight_Level_I       0.42      0.43      0.43        58\n",
            "Overweight_Level_II       0.56      0.64      0.60        58\n",
            "\n",
            "           accuracy                           0.62       423\n",
            "          macro avg       0.65      0.63      0.61       423\n",
            "       weighted avg       0.65      0.62      0.61       423\n",
            "\n"
          ]
        },
        {
          "output_type": "display_data",
          "data": {
            "text/plain": [
              "<Figure size 640x480 with 2 Axes>"
            ],
            "image/png": "[encoded data removed]"
          },
          "metadata": {}
        }
      ]
    },
    {
      "cell_type": "markdown",
      "source": [
        "**Penjelasan :**\n",
        "\n",
        "KNN bekerja dengan mencari k tetangga terdekat dari data yang akan diprediksi. Kode ini melatih model KNN, memprediksi hasil pada data uji, mengevaluasi performanya, dan memvisualisasikannya menggunakan confusion matrix berwarna oranye."
      ],
      "metadata": {
        "id": "ry-wMv9CL34W"
      }
    },
    {
      "cell_type": "markdown",
      "source": [
        "# **Membandingkan Model**\n",
        "\n",
        "---\n",
        "\n"
      ],
      "metadata": {
        "id": "VZ39yepmEwxO"
      }
    },
    {
      "cell_type": "code",
      "source": [
        "models = {  # Dictionary untuk menyimpan beberapa model machine learning\n",
        "    \"Decision Tree\": DecisionTreeClassifier(random_state=42),         # Model Decision Tree\n",
        "    \"Random Forest\": RandomForestClassifier(random_state=42),         # Model Random Forest\n",
        "    \"Logistic Regression\": LogisticRegression(max_iter=1000, random_state=42),  # Model Logistic Regression dengan iterasi maksimum 1000\n",
        "    \"KNN\": KNeighborsClassifier()                                     # Model K-Nearest Neighbors (default k=5)\n",
        "}\n"
      ],
      "metadata": {
        "id": "leqA3FS09TR9"
      },
      "execution_count": null,
      "outputs": []
    },
    {
      "cell_type": "markdown",
      "source": [
        "**Penjelasan :**\n",
        "\n",
        "Kode ini menyimpan berbagai model klasifikasi dalam satu dictionary bernama models. Nantinya, kamu bisa menggunakan struktur ini untuk melakukan training, evaluasi, atau perbandingan performa model secara efisien dalam loop."
      ],
      "metadata": {
        "id": "n2Lph0EMMDgP"
      }
    },
    {
      "cell_type": "code",
      "source": [
        "# Dictionary untuk menyimpan skor akurasi\n",
        "model_scores = {}  # Digunakan untuk menyimpan hasil akurasi dari masing-masing model setelah evaluasi\n"
      ],
      "metadata": {
        "id": "Ik8LL1L-9Uaa"
      },
      "execution_count": null,
      "outputs": []
    },
    {
      "cell_type": "markdown",
      "source": [
        "**Penjelasan :**\n",
        "\n",
        "Variabel model_scores akan digunakan untuk menyimpan nilai akurasi dari setiap model machine learning (seperti Decision Tree, Random Forest, dll) agar dapat dibandingkan dengan mudah di akhir evaluasi."
      ],
      "metadata": {
        "id": "jk2zzY84MOjg"
      }
    },
    {
      "cell_type": "code",
      "source": [
        "# Label Encoding (for categorical columns)\n",
        "le = LabelEncoder()                                         # Inisialisasi objek LabelEncoder\n",
        "\n",
        "for col in df.select_dtypes(include='object').columns:      # Loop untuk setiap kolom bertipe kategorikal (object/string)\n",
        "    df[col] = le.fit_transform(df[col])                     # Transformasi nilai kategorikal menjadi angka\n"
      ],
      "metadata": {
        "id": "Gb3arksF9XWr"
      },
      "execution_count": null,
      "outputs": []
    },
    {
      "cell_type": "markdown",
      "source": [
        "**Penjelasan :**\n",
        "\n",
        "Kode ini menggunakan Label Encoding untuk mengubah kolom kategorikal menjadi bentuk numerik yang dapat diproses oleh model machine learning. Setiap kategori unik akan diberi nilai integer secara otomatis."
      ],
      "metadata": {
        "id": "V54aWfs1MZYU"
      }
    },
    {
      "cell_type": "code",
      "source": [
        "# Split Features and Target\n",
        "X = df.drop(\"NObeyesdad\", axis=1)  # Memisahkan fitur (semua kolom kecuali target 'NObeyesdad')\n",
        "y = df[\"NObeyesdad\"]               # Menyimpan target/label (kolom 'NObeyesdad') ke variabel y\n"
      ],
      "metadata": {
        "id": "0JK5Ph1u9am2"
      },
      "execution_count": null,
      "outputs": []
    },
    {
      "cell_type": "markdown",
      "source": [
        "**Penjelasan :**\n",
        "\n",
        "Kode ini memisahkan fitur (X) dan target (y) dari DataFrame df. Ini merupakan langkah penting sebelum melakukan proses pelatihan model (training) agar model tahu mana data masukan dan mana label yang harus diprediksi."
      ],
      "metadata": {
        "id": "I9I2tyaCMkWu"
      }
    },
    {
      "cell_type": "code",
      "source": [
        "# Train-Test Split and Scaling\n",
        "X_train, X_test, y_train, y_test = train_test_split(   # Membagi dataset menjadi data latih dan data uji\n",
        "    X, y, test_size=0.2, random_state=42               # 80% data untuk training, 20% untuk testing, random_state untuk hasil konsisten\n",
        ")\n",
        "\n",
        "scaler = StandardScaler()                              # Inisialisasi StandardScaler untuk normalisasi (mean=0, std=1)\n",
        "X_train = scaler.fit_transform(X_train)                # Fit dan transform data latih\n",
        "X_test = scaler.transform(X_test)                      # Transform data uji menggunakan scaler yang sama\n"
      ],
      "metadata": {
        "id": "VPdFkmtA9fhJ"
      },
      "execution_count": null,
      "outputs": []
    },
    {
      "cell_type": "markdown",
      "source": [
        "**Penjelasan :**\n",
        "\n",
        "Langkah ini membagi data menjadi data latih dan uji serta melakukan normalisasi/standarisasi agar semua fitur berada pada skala yang sama, yang penting untuk model seperti KNN dan Logistic Regression."
      ],
      "metadata": {
        "id": "fIVPKkN9MxOQ"
      }
    },
    {
      "cell_type": "code",
      "source": [
        "# Tambahan import\n",
        "from sklearn.neighbors import KNeighborsClassifier  # Import model K-Nearest Neighbors (KNN)\n",
        "\n",
        "# Tambahkan KNN ke dalam model dictionary\n",
        "models = {\n",
        "    'Decision Tree': DecisionTreeClassifier(random_state=42),                      # Model Decision Tree\n",
        "    'Random Forest': RandomForestClassifier(random_state=42),                      # Model Random Forest\n",
        "    'Logistic Regression': LogisticRegression(solver='liblinear', max_iter=10000, random_state=42),  # Logistic Regression dengan solver 'liblinear'\n",
        "    'KNN': KNeighborsClassifier(n_neighbors=5)                                     # Model KNN dengan 5 tetangga terdekat\n",
        "}\n"
      ],
      "metadata": {
        "id": "cPOb5ywg9gm4"
      },
      "execution_count": null,
      "outputs": []
    },
    {
      "cell_type": "markdown",
      "source": [
        "**Penjelasan :**\n",
        "\n",
        "Kode ini memperluas dictionary models dengan menambahkan model KNN, serta menggunakan parameter eksplisit seperti n_neighbors=5 dan solver='liblinear' untuk Logistic Regression agar mendukung data kategori multikelas kecil hingga sedang. Ini mempermudah proses pelatihan dan evaluasi beberapa model sekaligus."
      ],
      "metadata": {
        "id": "JTEI3XkhM_Ha"
      }
    },
    {
      "cell_type": "code",
      "source": [
        "# Buat imputasi (isi NaN dengan mean kolom)\n",
        "imputer = SimpleImputer(strategy='mean')\n",
        "\n",
        "# Terapkan imputasi ke data train dan test\n",
        "X_train_imputed = imputer.fit_transform(X_train)\n",
        "X_test_imputed = imputer.transform(X_test)\n",
        "\n",
        "# Train dan evaluasi model\n",
        "model_scores = {}\n",
        "for name, model in models.items():\n",
        "    model.fit(X_train_imputed, y_train)\n",
        "    y_pred = model.predict(X_test_imputed)\n",
        "    acc = accuracy_score(y_test, y_pred)\n",
        "    model_scores[name] = acc\n",
        "    print(f\"{name} Accuracy: {acc:.4f}\")"
      ],
      "metadata": {
        "colab": {
          "base_uri": "https://localhost:8080/"
        },
        "id": "vWyQhllW9jkB",
        "outputId": "958e9856-a5fd-4b72-9957-524cad8a6ed2"
      },
      "execution_count": null,
      "outputs": [
        {
          "output_type": "stream",
          "name": "stdout",
          "text": [
            "Decision Tree Accuracy: 0.9102\n",
            "Random Forest Accuracy: 0.9433\n",
            "Logistic Regression Accuracy: 0.6478\n",
            "KNN Accuracy: 0.7352\n"
          ]
        }
      ]
    },
    {
      "cell_type": "markdown",
      "source": [
        "**Penjelasan :**\n",
        "Kode ini melakukan pelatihan dan evaluasi otomatis untuk setiap model dalam models. Hasil evaluasi berupa akurasi disimpan ke dalam dictionary model_scores dan ditampilkan ke layar. Ini memudahkan perbandingan performa antar model."
      ],
      "metadata": {
        "id": "KznuZkjKNqyc"
      }
    },
    {
      "cell_type": "code",
      "source": [
        "# Visualize Results\n",
        "plt.figure(figsize=(8,5))\n",
        "plt.bar(model_scores.keys(), model_scores.values(), color='lightgreen')\n",
        "plt.ylabel(\"Accuracy\")\n",
        "plt.title(\"Perbandingan Akurasi Model\")\n",
        "plt.ylim(0, 1)\n",
        "plt.xticks(rotation=45)\n",
        "plt.grid(axis='y', linestyle='--', alpha=0.7)\n",
        "plt.tight_layout()\n",
        "plt.show()"
      ],
      "metadata": {
        "colab": {
          "base_uri": "https://localhost:8080/",
          "height": 506
        },
        "id": "ntvppPSjA8zx",
        "outputId": "a6d33e78-9ffb-417b-c0dc-5dcbb31a8f64"
      },
      "execution_count": null,
      "outputs": [
        {
          "output_type": "display_data",
          "data": {
            "text/plain": [
              "<Figure size 800x500 with 1 Axes>"
            ],
            "image/png": "[encoded data removed]"
          },
          "metadata": {}
        }
      ]
    },
    {
      "cell_type": "markdown",
      "source": [
        "**Penjelasan:**\n",
        "\n",
        "Kode ini digunakan untuk memvisualisasikan akurasi dari setiap model dalam bentuk diagram batang, sehingga memudahkan perbandingan performa antar model klasifikasi."
      ],
      "metadata": {
        "id": "cgW-YYfpN1hU"
      }
    },
    {
      "cell_type": "markdown",
      "source": [
        "# **Hyper Tuning**\n",
        "\n",
        "---"
      ],
      "metadata": {
        "id": "ikAP4RhJE2tJ"
      }
    },
    {
      "cell_type": "code",
      "source": [
        "from sklearn.tree import DecisionTreeClassifier                 # Import model Decision Tree\n",
        "from sklearn.model_selection import GridSearchCV                # Import GridSearchCV untuk tuning hyperparameter\n",
        "\n",
        "# Definisikan parameter grid\n",
        "param_grid = {\n",
        "    'max_depth': [3, 5, 10, None],                              # Kedalaman maksimum pohon (None = tidak dibatasi)\n",
        "    'min_samples_split': [2, 5, 10],                            # Minimum jumlah sampel untuk membagi internal node\n",
        "    'min_samples_leaf': [1, 2, 4],                              # Minimum jumlah sampel di daun (leaf)\n",
        "    'criterion': ['gini', 'entropy']                            # Metode untuk mengukur kualitas split\n",
        "}\n"
      ],
      "metadata": {
        "id": "eTXiSAGEBAUC"
      },
      "execution_count": null,
      "outputs": []
    },
    {
      "cell_type": "markdown",
      "source": [
        "**Penjelasan :**\n",
        "\n",
        "Kode ini mendefinisikan grid parameter untuk Decision Tree, yang akan digunakan oleh GridSearchCV untuk mencari kombinasi parameter terbaik guna meningkatkan akurasi model."
      ],
      "metadata": {
        "id": "798qbtz4OKkr"
      }
    },
    {
      "cell_type": "code",
      "source": [
        "# Inisialisasi model\n",
        "dt = DecisionTreeClassifier(random_state=42)  # Membuat instance Decision Tree dengan seed random agar hasilnya konsisten\n"
      ],
      "metadata": {
        "id": "j046WIH4BEBB"
      },
      "execution_count": null,
      "outputs": []
    },
    {
      "cell_type": "markdown",
      "source": [
        "**Penjelasan :**\n",
        "\n",
        "Kode ini menginisialisasi model Decision Tree Classifier dengan parameter random_state=42 untuk memastikan hasil pelatihan yang reproducible (selalu sama setiap dijalankan). Model ini nanti akan digunakan dalam GridSearchCV."
      ],
      "metadata": {
        "id": "0WhqBsYBOT4T"
      }
    },
    {
      "cell_type": "code",
      "source": [
        "# Grid search dengan 5-fold cross-validation\n",
        "grid_search = GridSearchCV(                                          # Inisialisasi GridSearchCV\n",
        "    dt,                                                             # Model dasar: Decision Tree\n",
        "    param_grid,                                                     # Grid parameter yang akan diuji\n",
        "    cv=5,                                                           # Gunakan 5-fold cross-validation\n",
        "    scoring='accuracy',                                             # Metrik evaluasi: akurasi\n",
        "    n_jobs=-1                                                       # Gunakan semua core CPU untuk mempercepat proses\n",
        ")\n"
      ],
      "metadata": {
        "id": "38J312U2BHmz"
      },
      "execution_count": null,
      "outputs": []
    },
    {
      "cell_type": "markdown",
      "source": [
        "**Penjelasan :**\n",
        "\n",
        "GridSearchCV akan melakukan pencarian kombinasi parameter terbaik untuk model Decision Tree berdasarkan akurasi, dengan membagi data menjadi 5 bagian (5-fold cross-validation). Opsi n_jobs=-1 memastikan proses berjalan lebih cepat dengan memanfaatkan semua inti CPU."
      ],
      "metadata": {
        "id": "_sJH2RL7OfgQ"
      }
    },
    {
      "cell_type": "code",
      "source": [
        "# Fit ke data\n",
        "grid_search.fit(X_train, y_train)  # Melatih GridSearchCV untuk mencari parameter terbaik dengan data latih\n"
      ],
      "metadata": {
        "colab": {
          "base_uri": "https://localhost:8080/",
          "height": 165
        },
        "id": "fUmM_LcsBM53",
        "outputId": "0664d301-2ff4-4490-d086-416c8ff62a3f"
      },
      "execution_count": null,
      "outputs": [
        {
          "output_type": "execute_result",
          "data": {
            "text/plain": [
              "GridSearchCV(cv=5, estimator=DecisionTreeClassifier(random_state=42), n_jobs=-1,\n",
              "             param_grid={'criterion': ['gini', 'entropy'],\n",
              "                         'max_depth': [3, 5, 10, None],\n",
              "                         'min_samples_leaf': [1, 2, 4],\n",
              "                         'min_samples_split': [2, 5, 10]},\n",
              "             scoring='accuracy')"
            ],
            "text/html": [
              "<style>#sk-container-id-3 {\n",
              "  /* Definition of color scheme common for light and dark mode */\n",
              "  --sklearn-color-text: #000;\n",
              "  --sklearn-color-text-muted: #666;\n",
              "  --sklearn-color-line: gray;\n",
              "  /* Definition of color scheme for unfitted estimators */\n",
              "  --sklearn-color-unfitted-level-0: #fff5e6;\n",
              "  --sklearn-color-unfitted-level-1: #f6e4d2;\n",
              "  --sklearn-color-unfitted-level-2: #ffe0b3;\n",
              "  --sklearn-color-unfitted-level-3: chocolate;\n",
              "  /* Definition of color scheme for fitted estimators */\n",
              "  --sklearn-color-fitted-level-0: #f0f8ff;\n",
              "  --sklearn-color-fitted-level-1: #d4ebff;\n",
              "  --sklearn-color-fitted-level-2: #b3dbfd;\n",
              "  --sklearn-color-fitted-level-3: cornflowerblue;\n",
              "\n",
              "  /* Specific color for light theme */\n",
              "  --sklearn-color-text-on-default-background: var(--sg-text-color, var(--theme-code-foreground, var(--jp-content-font-color1, black)));\n",
              "  --sklearn-color-background: var(--sg-background-color, var(--theme-background, var(--jp-layout-color0, white)));\n",
              "  --sklearn-color-border-box: var(--sg-text-color, var(--theme-code-foreground, var(--jp-content-font-color1, black)));\n",
              "  --sklearn-color-icon: #696969;\n",
              "\n",
              "  @media (prefers-color-scheme: dark) {\n",
              "    /* Redefinition of color scheme for dark theme */\n",
              "    --sklearn-color-text-on-default-background: var(--sg-text-color, var(--theme-code-foreground, var(--jp-content-font-color1, white)));\n",
              "    --sklearn-color-background: var(--sg-background-color, var(--theme-background, var(--jp-layout-color0, #111)));\n",
              "    --sklearn-color-border-box: var(--sg-text-color, var(--theme-code-foreground, var(--jp-content-font-color1, white)));\n",
              "    --sklearn-color-icon: #878787;\n",
              "  }\n",
              "}\n",
              "\n",
              "#sk-container-id-3 {\n",
              "  color: var(--sklearn-color-text);\n",
              "}\n",
              "\n",
              "#sk-container-id-3 pre {\n",
              "  padding: 0;\n",
              "}\n",
              "\n",
              "#sk-container-id-3 input.sk-hidden--visually {\n",
              "  border: 0;\n",
              "  clip: rect(1px 1px 1px 1px);\n",
              "  clip: rect(1px, 1px, 1px, 1px);\n",
              "  height: 1px;\n",
              "  margin: -1px;\n",
              "  overflow: hidden;\n",
              "  padding: 0;\n",
              "  position: absolute;\n",
              "  width: 1px;\n",
              "}\n",
              "\n",
              "#sk-container-id-3 div.sk-dashed-wrapped {\n",
              "  border: 1px dashed var(--sklearn-color-line);\n",
              "  margin: 0 0.4em 0.5em 0.4em;\n",
              "  box-sizing: border-box;\n",
              "  padding-bottom: 0.4em;\n",
              "  background-color: var(--sklearn-color-background);\n",
              "}\n",
              "\n",
              "#sk-container-id-3 div.sk-container {\n",
              "  /* jupyter's `normalize.less` sets `[hidden] { display: none; }`\n",
              "     but bootstrap.min.css set `[hidden] { display: none !important; }`\n",
              "     so we also need the `!important` here to be able to override the\n",
              "     default hidden behavior on the sphinx rendered scikit-learn.org.\n",
              "     See: https://github.com/scikit-learn/scikit-learn/issues/21755 */\n",
              "  display: inline-block !important;\n",
              "  position: relative;\n",
              "}\n",
              "\n",
              "#sk-container-id-3 div.sk-text-repr-fallback {\n",
              "  display: none;\n",
              "}\n",
              "\n",
              "div.sk-parallel-item,\n",
              "div.sk-serial,\n",
              "div.sk-item {\n",
              "  /* draw centered vertical line to link estimators */\n",
              "  background-image: linear-gradient(var(--sklearn-color-text-on-default-background), var(--sklearn-color-text-on-default-background));\n",
              "  background-size: 2px 100%;\n",
              "  background-repeat: no-repeat;\n",
              "  background-position: center center;\n",
              "}\n",
              "\n",
              "/* Parallel-specific style estimator block */\n",
              "\n",
              "#sk-container-id-3 div.sk-parallel-item::after {\n",
              "  content: \"\";\n",
              "  width: 100%;\n",
              "  border-bottom: 2px solid var(--sklearn-color-text-on-default-background);\n",
              "  flex-grow: 1;\n",
              "}\n",
              "\n",
              "#sk-container-id-3 div.sk-parallel {\n",
              "  display: flex;\n",
              "  align-items: stretch;\n",
              "  justify-content: center;\n",
              "  background-color: var(--sklearn-color-background);\n",
              "  position: relative;\n",
              "}\n",
              "\n",
              "#sk-container-id-3 div.sk-parallel-item {\n",
              "  display: flex;\n",
              "  flex-direction: column;\n",
              "}\n",
              "\n",
              "#sk-container-id-3 div.sk-parallel-item:first-child::after {\n",
              "  align-self: flex-end;\n",
              "  width: 50%;\n",
              "}\n",
              "\n",
              "#sk-container-id-3 div.sk-parallel-item:last-child::after {\n",
              "  align-self: flex-start;\n",
              "  width: 50%;\n",
              "}\n",
              "\n",
              "#sk-container-id-3 div.sk-parallel-item:only-child::after {\n",
              "  width: 0;\n",
              "}\n",
              "\n",
              "/* Serial-specific style estimator block */\n",
              "\n",
              "#sk-container-id-3 div.sk-serial {\n",
              "  display: flex;\n",
              "  flex-direction: column;\n",
              "  align-items: center;\n",
              "  background-color: var(--sklearn-color-background);\n",
              "  padding-right: 1em;\n",
              "  padding-left: 1em;\n",
              "}\n",
              "\n",
              "\n",
              "/* Toggleable style: style used for estimator/Pipeline/ColumnTransformer box that is\n",
              "clickable and can be expanded/collapsed.\n",
              "- Pipeline and ColumnTransformer use this feature and define the default style\n",
              "- Estimators will overwrite some part of the style using the `sk-estimator` class\n",
              "*/\n",
              "\n",
              "/* Pipeline and ColumnTransformer style (default) */\n",
              "\n",
              "#sk-container-id-3 div.sk-toggleable {\n",
              "  /* Default theme specific background. It is overwritten whether we have a\n",
              "  specific estimator or a Pipeline/ColumnTransformer */\n",
              "  background-color: var(--sklearn-color-background);\n",
              "}\n",
              "\n",
              "/* Toggleable label */\n",
              "#sk-container-id-3 label.sk-toggleable__label {\n",
              "  cursor: pointer;\n",
              "  display: flex;\n",
              "  width: 100%;\n",
              "  margin-bottom: 0;\n",
              "  padding: 0.5em;\n",
              "  box-sizing: border-box;\n",
              "  text-align: center;\n",
              "  align-items: start;\n",
              "  justify-content: space-between;\n",
              "  gap: 0.5em;\n",
              "}\n",
              "\n",
              "#sk-container-id-3 label.sk-toggleable__label .caption {\n",
              "  font-size: 0.6rem;\n",
              "  font-weight: lighter;\n",
              "  color: var(--sklearn-color-text-muted);\n",
              "}\n",
              "\n",
              "#sk-container-id-3 label.sk-toggleable__label-arrow:before {\n",
              "  /* Arrow on the left of the label */\n",
              "  content: \"▸\";\n",
              "  float: left;\n",
              "  margin-right: 0.25em;\n",
              "  color: var(--sklearn-color-icon);\n",
              "}\n",
              "\n",
              "#sk-container-id-3 label.sk-toggleable__label-arrow:hover:before {\n",
              "  color: var(--sklearn-color-text);\n",
              "}\n",
              "\n",
              "/* Toggleable content - dropdown */\n",
              "\n",
              "#sk-container-id-3 div.sk-toggleable__content {\n",
              "  max-height: 0;\n",
              "  max-width: 0;\n",
              "  overflow: hidden;\n",
              "  text-align: left;\n",
              "  /* unfitted */\n",
              "  background-color: var(--sklearn-color-unfitted-level-0);\n",
              "}\n",
              "\n",
              "#sk-container-id-3 div.sk-toggleable__content.fitted {\n",
              "  /* fitted */\n",
              "  background-color: var(--sklearn-color-fitted-level-0);\n",
              "}\n",
              "\n",
              "#sk-container-id-3 div.sk-toggleable__content pre {\n",
              "  margin: 0.2em;\n",
              "  border-radius: 0.25em;\n",
              "  color: var(--sklearn-color-text);\n",
              "  /* unfitted */\n",
              "  background-color: var(--sklearn-color-unfitted-level-0);\n",
              "}\n",
              "\n",
              "#sk-container-id-3 div.sk-toggleable__content.fitted pre {\n",
              "  /* unfitted */\n",
              "  background-color: var(--sklearn-color-fitted-level-0);\n",
              "}\n",
              "\n",
              "#sk-container-id-3 input.sk-toggleable__control:checked~div.sk-toggleable__content {\n",
              "  /* Expand drop-down */\n",
              "  max-height: 200px;\n",
              "  max-width: 100%;\n",
              "  overflow: auto;\n",
              "}\n",
              "\n",
              "#sk-container-id-3 input.sk-toggleable__control:checked~label.sk-toggleable__label-arrow:before {\n",
              "  content: \"▾\";\n",
              "}\n",
              "\n",
              "/* Pipeline/ColumnTransformer-specific style */\n",
              "\n",
              "#sk-container-id-3 div.sk-label input.sk-toggleable__control:checked~label.sk-toggleable__label {\n",
              "  color: var(--sklearn-color-text);\n",
              "  background-color: var(--sklearn-color-unfitted-level-2);\n",
              "}\n",
              "\n",
              "#sk-container-id-3 div.sk-label.fitted input.sk-toggleable__control:checked~label.sk-toggleable__label {\n",
              "  background-color: var(--sklearn-color-fitted-level-2);\n",
              "}\n",
              "\n",
              "/* Estimator-specific style */\n",
              "\n",
              "/* Colorize estimator box */\n",
              "#sk-container-id-3 div.sk-estimator input.sk-toggleable__control:checked~label.sk-toggleable__label {\n",
              "  /* unfitted */\n",
              "  background-color: var(--sklearn-color-unfitted-level-2);\n",
              "}\n",
              "\n",
              "#sk-container-id-3 div.sk-estimator.fitted input.sk-toggleable__control:checked~label.sk-toggleable__label {\n",
              "  /* fitted */\n",
              "  background-color: var(--sklearn-color-fitted-level-2);\n",
              "}\n",
              "\n",
              "#sk-container-id-3 div.sk-label label.sk-toggleable__label,\n",
              "#sk-container-id-3 div.sk-label label {\n",
              "  /* The background is the default theme color */\n",
              "  color: var(--sklearn-color-text-on-default-background);\n",
              "}\n",
              "\n",
              "/* On hover, darken the color of the background */\n",
              "#sk-container-id-3 div.sk-label:hover label.sk-toggleable__label {\n",
              "  color: var(--sklearn-color-text);\n",
              "  background-color: var(--sklearn-color-unfitted-level-2);\n",
              "}\n",
              "\n",
              "/* Label box, darken color on hover, fitted */\n",
              "#sk-container-id-3 div.sk-label.fitted:hover label.sk-toggleable__label.fitted {\n",
              "  color: var(--sklearn-color-text);\n",
              "  background-color: var(--sklearn-color-fitted-level-2);\n",
              "}\n",
              "\n",
              "/* Estimator label */\n",
              "\n",
              "#sk-container-id-3 div.sk-label label {\n",
              "  font-family: monospace;\n",
              "  font-weight: bold;\n",
              "  display: inline-block;\n",
              "  line-height: 1.2em;\n",
              "}\n",
              "\n",
              "#sk-container-id-3 div.sk-label-container {\n",
              "  text-align: center;\n",
              "}\n",
              "\n",
              "/* Estimator-specific */\n",
              "#sk-container-id-3 div.sk-estimator {\n",
              "  font-family: monospace;\n",
              "  border: 1px dotted var(--sklearn-color-border-box);\n",
              "  border-radius: 0.25em;\n",
              "  box-sizing: border-box;\n",
              "  margin-bottom: 0.5em;\n",
              "  /* unfitted */\n",
              "  background-color: var(--sklearn-color-unfitted-level-0);\n",
              "}\n",
              "\n",
              "#sk-container-id-3 div.sk-estimator.fitted {\n",
              "  /* fitted */\n",
              "  background-color: var(--sklearn-color-fitted-level-0);\n",
              "}\n",
              "\n",
              "/* on hover */\n",
              "#sk-container-id-3 div.sk-estimator:hover {\n",
              "  /* unfitted */\n",
              "  background-color: var(--sklearn-color-unfitted-level-2);\n",
              "}\n",
              "\n",
              "#sk-container-id-3 div.sk-estimator.fitted:hover {\n",
              "  /* fitted */\n",
              "  background-color: var(--sklearn-color-fitted-level-2);\n",
              "}\n",
              "\n",
              "/* Specification for estimator info (e.g. \"i\" and \"?\") */\n",
              "\n",
              "/* Common style for \"i\" and \"?\" */\n",
              "\n",
              ".sk-estimator-doc-link,\n",
              "a:link.sk-estimator-doc-link,\n",
              "a:visited.sk-estimator-doc-link {\n",
              "  float: right;\n",
              "  font-size: smaller;\n",
              "  line-height: 1em;\n",
              "  font-family: monospace;\n",
              "  background-color: var(--sklearn-color-background);\n",
              "  border-radius: 1em;\n",
              "  height: 1em;\n",
              "  width: 1em;\n",
              "  text-decoration: none !important;\n",
              "  margin-left: 0.5em;\n",
              "  text-align: center;\n",
              "  /* unfitted */\n",
              "  border: var(--sklearn-color-unfitted-level-1) 1pt solid;\n",
              "  color: var(--sklearn-color-unfitted-level-1);\n",
              "}\n",
              "\n",
              ".sk-estimator-doc-link.fitted,\n",
              "a:link.sk-estimator-doc-link.fitted,\n",
              "a:visited.sk-estimator-doc-link.fitted {\n",
              "  /* fitted */\n",
              "  border: var(--sklearn-color-fitted-level-1) 1pt solid;\n",
              "  color: var(--sklearn-color-fitted-level-1);\n",
              "}\n",
              "\n",
              "/* On hover */\n",
              "div.sk-estimator:hover .sk-estimator-doc-link:hover,\n",
              ".sk-estimator-doc-link:hover,\n",
              "div.sk-label-container:hover .sk-estimator-doc-link:hover,\n",
              ".sk-estimator-doc-link:hover {\n",
              "  /* unfitted */\n",
              "  background-color: var(--sklearn-color-unfitted-level-3);\n",
              "  color: var(--sklearn-color-background);\n",
              "  text-decoration: none;\n",
              "}\n",
              "\n",
              "div.sk-estimator.fitted:hover .sk-estimator-doc-link.fitted:hover,\n",
              ".sk-estimator-doc-link.fitted:hover,\n",
              "div.sk-label-container:hover .sk-estimator-doc-link.fitted:hover,\n",
              ".sk-estimator-doc-link.fitted:hover {\n",
              "  /* fitted */\n",
              "  background-color: var(--sklearn-color-fitted-level-3);\n",
              "  color: var(--sklearn-color-background);\n",
              "  text-decoration: none;\n",
              "}\n",
              "\n",
              "/* Span, style for the box shown on hovering the info icon */\n",
              ".sk-estimator-doc-link span {\n",
              "  display: none;\n",
              "  z-index: 9999;\n",
              "  position: relative;\n",
              "  font-weight: normal;\n",
              "  right: .2ex;\n",
              "  padding: .5ex;\n",
              "  margin: .5ex;\n",
              "  width: min-content;\n",
              "  min-width: 20ex;\n",
              "  max-width: 50ex;\n",
              "  color: var(--sklearn-color-text);\n",
              "  box-shadow: 2pt 2pt 4pt #999;\n",
              "  /* unfitted */\n",
              "  background: var(--sklearn-color-unfitted-level-0);\n",
              "  border: .5pt solid var(--sklearn-color-unfitted-level-3);\n",
              "}\n",
              "\n",
              ".sk-estimator-doc-link.fitted span {\n",
              "  /* fitted */\n",
              "  background: var(--sklearn-color-fitted-level-0);\n",
              "  border: var(--sklearn-color-fitted-level-3);\n",
              "}\n",
              "\n",
              ".sk-estimator-doc-link:hover span {\n",
              "  display: block;\n",
              "}\n",
              "\n",
              "/* \"?\"-specific style due to the `<a>` HTML tag */\n",
              "\n",
              "#sk-container-id-3 a.estimator_doc_link {\n",
              "  float: right;\n",
              "  font-size: 1rem;\n",
              "  line-height: 1em;\n",
              "  font-family: monospace;\n",
              "  background-color: var(--sklearn-color-background);\n",
              "  border-radius: 1rem;\n",
              "  height: 1rem;\n",
              "  width: 1rem;\n",
              "  text-decoration: none;\n",
              "  /* unfitted */\n",
              "  color: var(--sklearn-color-unfitted-level-1);\n",
              "  border: var(--sklearn-color-unfitted-level-1) 1pt solid;\n",
              "}\n",
              "\n",
              "#sk-container-id-3 a.estimator_doc_link.fitted {\n",
              "  /* fitted */\n",
              "  border: var(--sklearn-color-fitted-level-1) 1pt solid;\n",
              "  color: var(--sklearn-color-fitted-level-1);\n",
              "}\n",
              "\n",
              "/* On hover */\n",
              "#sk-container-id-3 a.estimator_doc_link:hover {\n",
              "  /* unfitted */\n",
              "  background-color: var(--sklearn-color-unfitted-level-3);\n",
              "  color: var(--sklearn-color-background);\n",
              "  text-decoration: none;\n",
              "}\n",
              "\n",
              "#sk-container-id-3 a.estimator_doc_link.fitted:hover {\n",
              "  /* fitted */\n",
              "  background-color: var(--sklearn-color-fitted-level-3);\n",
              "}\n",
              "</style><div id=\"sk-container-id-3\" class=\"sk-top-container\"><div class=\"sk-text-repr-fallback\"><pre>GridSearchCV(cv=5, estimator=DecisionTreeClassifier(random_state=42), n_jobs=-1,\n",
              "             param_grid={&#x27;criterion&#x27;: [&#x27;gini&#x27;, &#x27;entropy&#x27;],\n",
              "                         &#x27;max_depth&#x27;: [3, 5, 10, None],\n",
              "                         &#x27;min_samples_leaf&#x27;: [1, 2, 4],\n",
              "                         &#x27;min_samples_split&#x27;: [2, 5, 10]},\n",
              "             scoring=&#x27;accuracy&#x27;)</pre><b>In a Jupyter environment, please rerun this cell to show the HTML representation or trust the notebook. <br />On GitHub, the HTML representation is unable to render, please try loading this page with nbviewer.org.</b></div><div class=\"sk-container\" hidden><div class=\"sk-item sk-dashed-wrapped\"><div class=\"sk-label-container\"><div class=\"sk-label fitted sk-toggleable\"><input class=\"sk-toggleable__control sk-hidden--visually\" id=\"sk-estimator-id-7\" type=\"checkbox\" ><label for=\"sk-estimator-id-7\" class=\"sk-toggleable__label fitted sk-toggleable__label-arrow\"><div><div>GridSearchCV</div></div><div><a class=\"sk-estimator-doc-link fitted\" rel=\"noreferrer\" target=\"_blank\" href=\"https://scikit-learn.org/1.6/modules/generated/sklearn.model_selection.GridSearchCV.html\">?<span>Documentation for GridSearchCV</span></a><span class=\"sk-estimator-doc-link fitted\">i<span>Fitted</span></span></div></label><div class=\"sk-toggleable__content fitted\"><pre>GridSearchCV(cv=5, estimator=DecisionTreeClassifier(random_state=42), n_jobs=-1,\n",
              "             param_grid={&#x27;criterion&#x27;: [&#x27;gini&#x27;, &#x27;entropy&#x27;],\n",
              "                         &#x27;max_depth&#x27;: [3, 5, 10, None],\n",
              "                         &#x27;min_samples_leaf&#x27;: [1, 2, 4],\n",
              "                         &#x27;min_samples_split&#x27;: [2, 5, 10]},\n",
              "             scoring=&#x27;accuracy&#x27;)</pre></div> </div></div><div class=\"sk-parallel\"><div class=\"sk-parallel-item\"><div class=\"sk-item\"><div class=\"sk-label-container\"><div class=\"sk-label fitted sk-toggleable\"><input class=\"sk-toggleable__control sk-hidden--visually\" id=\"sk-estimator-id-8\" type=\"checkbox\" ><label for=\"sk-estimator-id-8\" class=\"sk-toggleable__label fitted sk-toggleable__label-arrow\"><div><div>best_estimator_: DecisionTreeClassifier</div></div></label><div class=\"sk-toggleable__content fitted\"><pre>DecisionTreeClassifier(criterion=&#x27;entropy&#x27;, max_depth=10, random_state=42)</pre></div> </div></div><div class=\"sk-serial\"><div class=\"sk-item\"><div class=\"sk-estimator fitted sk-toggleable\"><input class=\"sk-toggleable__control sk-hidden--visually\" id=\"sk-estimator-id-9\" type=\"checkbox\" ><label for=\"sk-estimator-id-9\" class=\"sk-toggleable__label fitted sk-toggleable__label-arrow\"><div><div>DecisionTreeClassifier</div></div><div><a class=\"sk-estimator-doc-link fitted\" rel=\"noreferrer\" target=\"_blank\" href=\"https://scikit-learn.org/1.6/modules/generated/sklearn.tree.DecisionTreeClassifier.html\">?<span>Documentation for DecisionTreeClassifier</span></a></div></label><div class=\"sk-toggleable__content fitted\"><pre>DecisionTreeClassifier(criterion=&#x27;entropy&#x27;, max_depth=10, random_state=42)</pre></div> </div></div></div></div></div></div></div></div></div>"
            ]
          },
          "metadata": {},
          "execution_count": 205
        }
      ]
    },
    {
      "cell_type": "markdown",
      "source": [
        "**Penjelasan :**\n",
        "Kode ini menjalankan proses pencarian parameter terbaik untuk model Decision Tree menggunakan data pelatihan (X_train, y_train). GridSearchCV akan menguji semua kombinasi parameter dari param_grid menggunakan 5-fold cross-validation."
      ],
      "metadata": {
        "id": "nByGKdinOui-"
      }
    },
    {
      "cell_type": "code",
      "source": [
        "# Tampilkan hasil terbaik\n",
        "print(\"Best Parameters:\", grid_search.best_params_)  # Menampilkan kombinasi parameter terbaik yang ditemukan GridSearchCV\n",
        "print(\"Best Score:\", grid_search.best_score_)        # Menampilkan skor akurasi tertinggi dari hasil cross-validation\n"
      ],
      "metadata": {
        "colab": {
          "base_uri": "https://localhost:8080/"
        },
        "id": "Fp-SHNIABVLq",
        "outputId": "d6c52b3e-192a-4a88-d0ac-3979efe35b21"
      },
      "execution_count": null,
      "outputs": [
        {
          "output_type": "stream",
          "name": "stdout",
          "text": [
            "Best Parameters: {'criterion': 'entropy', 'max_depth': 10, 'min_samples_leaf': 1, 'min_samples_split': 2}\n",
            "Best Score: 0.9212157392938037\n"
          ]
        }
      ]
    },
    {
      "cell_type": "markdown",
      "source": [
        "**Penjelasan :**\n",
        "\n",
        "Kode ini digunakan untuk menampilkan parameter terbaik dan akurasi tertinggi yang diperoleh selama proses Grid Search menggunakan cross-validation. Ini membantu memilih konfigurasi Decision Tree yang paling optimal."
      ],
      "metadata": {
        "id": "vW_VZhITO2WG"
      }
    },
    {
      "cell_type": "code",
      "source": [
        "best_dt = grid_search.best_estimator_              # Mengambil model Decision Tree terbaik dari hasil Grid Search\n",
        "\n",
        "# Evaluasi di test set\n",
        "y_pred_dt = best_dt.predict(X_test)                # Menggunakan model terbaik untuk memprediksi data uji\n",
        "acc_dt = accuracy_score(y_test, y_pred_dt)         # Menghitung akurasi prediksi terhadap data uji\n",
        "print(\"Test Accuracy (Tuned Decision Tree):\", acc_dt)  # Menampilkan akurasi model terbaik di data uji\n"
      ],
      "metadata": {
        "colab": {
          "base_uri": "https://localhost:8080/"
        },
        "id": "z4kggQJ3BWJA",
        "outputId": "5690be90-8870-489b-f4cc-beeaad39e900"
      },
      "execution_count": null,
      "outputs": [
        {
          "output_type": "stream",
          "name": "stdout",
          "text": [
            "Test Accuracy (Tuned Decision Tree): 0.9267139479905437\n"
          ]
        }
      ]
    },
    {
      "cell_type": "markdown",
      "source": [
        "**Penjelasan :**\n",
        "\n",
        "Setelah menemukan konfigurasi terbaik, model digunakan untuk prediksi pada data uji. Kemudian dihitung akurasinya untuk mengetahui seberapa baik model yang sudah di-tuning bekerja terhadap data yang belum pernah dilihat"
      ],
      "metadata": {
        "id": "-YChSehIPBLT"
      }
    }
  ]
}